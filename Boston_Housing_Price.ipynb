{
  "nbformat": 4,
  "nbformat_minor": 0,
  "metadata": {
    "colab": {
      "name": "Boston Housing Price.ipynb",
      "version": "0.3.2",
      "provenance": []
    }
  },
  "cells": [
    {
      "metadata": {
        "id": "D4OsZQ97oaxH",
        "colab_type": "text"
      },
      "cell_type": "markdown",
      "source": [
        "# The Boston Housing Price dataset\n",
        "* You’ll attempt to predict the median price of homes in a given Boston suburb in the\n",
        "mid-1970s, given data points about the suburb at the time, such as the crime rate, the\n",
        "local property tax rate, and so on.\n",
        "* It has relatively few data points: only 506, split\n",
        "between 404 training samples and 102 test samples. And each feature in the input data\n",
        "(for example, the crime rate) has a different scale.\n",
        "* For instance, some values are proportions,\n",
        "which take values between 0 and 1; others take values between 1 and 12, others\n",
        "between 0 and 100, and so on."
      ]
    },
    {
      "metadata": {
        "id": "8nsbSr9mpC1m",
        "colab_type": "text"
      },
      "cell_type": "markdown",
      "source": [
        "## 1 . Loading the Boston housing dataset"
      ]
    },
    {
      "metadata": {
        "id": "SVlLnMw9oXyT",
        "colab_type": "code",
        "outputId": "55e72e17-77fc-450b-9b4a-2e6df8e7eceb",
        "colab": {
          "base_uri": "https://localhost:8080/",
          "height": 85
        }
      },
      "cell_type": "code",
      "source": [
        "from keras.datasets import boston_housing\n",
        "\n",
        "#loading the dataset\n",
        "(train_data, train_targets), (test_data, test_targets) =boston_housing.load_data()"
      ],
      "execution_count": 0,
      "outputs": [
        {
          "output_type": "stream",
          "text": [
            "Using TensorFlow backend.\n"
          ],
          "name": "stderr"
        },
        {
          "output_type": "stream",
          "text": [
            "Downloading data from https://s3.amazonaws.com/keras-datasets/boston_housing.npz\n",
            "57344/57026 [==============================] - 0s 2us/step\n",
            "65536/57026 [==================================] - 0s 2us/step\n"
          ],
          "name": "stdout"
        }
      ]
    },
    {
      "metadata": {
        "id": "nDiX9i-zpOFO",
        "colab_type": "code",
        "outputId": "95c377db-bfde-49aa-b370-7eaad29133ff",
        "colab": {
          "base_uri": "https://localhost:8080/",
          "height": 34
        }
      },
      "cell_type": "code",
      "source": [
        "train_data.shape"
      ],
      "execution_count": 0,
      "outputs": [
        {
          "output_type": "execute_result",
          "data": {
            "text/plain": [
              "(404, 13)"
            ]
          },
          "metadata": {
            "tags": []
          },
          "execution_count": 2
        }
      ]
    },
    {
      "metadata": {
        "id": "rU_WUYhKpTAf",
        "colab_type": "code",
        "outputId": "b313bdea-68c9-4ae2-b546-4155a2ff9230",
        "colab": {
          "base_uri": "https://localhost:8080/",
          "height": 34
        }
      },
      "cell_type": "code",
      "source": [
        "test_data.shape"
      ],
      "execution_count": 0,
      "outputs": [
        {
          "output_type": "execute_result",
          "data": {
            "text/plain": [
              "(102, 13)"
            ]
          },
          "metadata": {
            "tags": []
          },
          "execution_count": 3
        }
      ]
    },
    {
      "metadata": {
        "id": "aLOsw040pxu3",
        "colab_type": "text"
      },
      "cell_type": "markdown",
      "source": [
        "The targets are the median values of owner-occupied homes, in thousands of\n",
        "dollars"
      ]
    },
    {
      "metadata": {
        "id": "z1Uy2WbkpUrO",
        "colab_type": "code",
        "outputId": "a3393d1c-a162-4479-82ff-d62ba6c72761",
        "colab": {
          "base_uri": "https://localhost:8080/",
          "height": 646
        }
      },
      "cell_type": "code",
      "source": [
        "train_targets"
      ],
      "execution_count": 0,
      "outputs": [
        {
          "output_type": "execute_result",
          "data": {
            "text/plain": [
              "array([15.2, 42.3, 50. , 21.1, 17.7, 18.5, 11.3, 15.6, 15.6, 14.4, 12.1,\n",
              "       17.9, 23.1, 19.9, 15.7,  8.8, 50. , 22.5, 24.1, 27.5, 10.9, 30.8,\n",
              "       32.9, 24. , 18.5, 13.3, 22.9, 34.7, 16.6, 17.5, 22.3, 16.1, 14.9,\n",
              "       23.1, 34.9, 25. , 13.9, 13.1, 20.4, 20. , 15.2, 24.7, 22.2, 16.7,\n",
              "       12.7, 15.6, 18.4, 21. , 30.1, 15.1, 18.7,  9.6, 31.5, 24.8, 19.1,\n",
              "       22. , 14.5, 11. , 32. , 29.4, 20.3, 24.4, 14.6, 19.5, 14.1, 14.3,\n",
              "       15.6, 10.5,  6.3, 19.3, 19.3, 13.4, 36.4, 17.8, 13.5, 16.5,  8.3,\n",
              "       14.3, 16. , 13.4, 28.6, 43.5, 20.2, 22. , 23. , 20.7, 12.5, 48.5,\n",
              "       14.6, 13.4, 23.7, 50. , 21.7, 39.8, 38.7, 22.2, 34.9, 22.5, 31.1,\n",
              "       28.7, 46. , 41.7, 21. , 26.6, 15. , 24.4, 13.3, 21.2, 11.7, 21.7,\n",
              "       19.4, 50. , 22.8, 19.7, 24.7, 36.2, 14.2, 18.9, 18.3, 20.6, 24.6,\n",
              "       18.2,  8.7, 44. , 10.4, 13.2, 21.2, 37. , 30.7, 22.9, 20. , 19.3,\n",
              "       31.7, 32. , 23.1, 18.8, 10.9, 50. , 19.6,  5. , 14.4, 19.8, 13.8,\n",
              "       19.6, 23.9, 24.5, 25. , 19.9, 17.2, 24.6, 13.5, 26.6, 21.4, 11.9,\n",
              "       22.6, 19.6,  8.5, 23.7, 23.1, 22.4, 20.5, 23.6, 18.4, 35.2, 23.1,\n",
              "       27.9, 20.6, 23.7, 28. , 13.6, 27.1, 23.6, 20.6, 18.2, 21.7, 17.1,\n",
              "        8.4, 25.3, 13.8, 22.2, 18.4, 20.7, 31.6, 30.5, 20.3,  8.8, 19.2,\n",
              "       19.4, 23.1, 23. , 14.8, 48.8, 22.6, 33.4, 21.1, 13.6, 32.2, 13.1,\n",
              "       23.4, 18.9, 23.9, 11.8, 23.3, 22.8, 19.6, 16.7, 13.4, 22.2, 20.4,\n",
              "       21.8, 26.4, 14.9, 24.1, 23.8, 12.3, 29.1, 21. , 19.5, 23.3, 23.8,\n",
              "       17.8, 11.5, 21.7, 19.9, 25. , 33.4, 28.5, 21.4, 24.3, 27.5, 33.1,\n",
              "       16.2, 23.3, 48.3, 22.9, 22.8, 13.1, 12.7, 22.6, 15. , 15.3, 10.5,\n",
              "       24. , 18.5, 21.7, 19.5, 33.2, 23.2,  5. , 19.1, 12.7, 22.3, 10.2,\n",
              "       13.9, 16.3, 17. , 20.1, 29.9, 17.2, 37.3, 45.4, 17.8, 23.2, 29. ,\n",
              "       22. , 18. , 17.4, 34.6, 20.1, 25. , 15.6, 24.8, 28.2, 21.2, 21.4,\n",
              "       23.8, 31. , 26.2, 17.4, 37.9, 17.5, 20. ,  8.3, 23.9,  8.4, 13.8,\n",
              "        7.2, 11.7, 17.1, 21.6, 50. , 16.1, 20.4, 20.6, 21.4, 20.6, 36.5,\n",
              "        8.5, 24.8, 10.8, 21.9, 17.3, 18.9, 36.2, 14.9, 18.2, 33.3, 21.8,\n",
              "       19.7, 31.6, 24.8, 19.4, 22.8,  7.5, 44.8, 16.8, 18.7, 50. , 50. ,\n",
              "       19.5, 20.1, 50. , 17.2, 20.8, 19.3, 41.3, 20.4, 20.5, 13.8, 16.5,\n",
              "       23.9, 20.6, 31.5, 23.3, 16.8, 14. , 33.8, 36.1, 12.8, 18.3, 18.7,\n",
              "       19.1, 29. , 30.1, 50. , 50. , 22. , 11.9, 37.6, 50. , 22.7, 20.8,\n",
              "       23.5, 27.9, 50. , 19.3, 23.9, 22.6, 15.2, 21.7, 19.2, 43.8, 20.3,\n",
              "       33.2, 19.9, 22.5, 32.7, 22. , 17.1, 19. , 15. , 16.1, 25.1, 23.7,\n",
              "       28.7, 37.2, 22.6, 16.4, 25. , 29.8, 22.1, 17.4, 18.1, 30.3, 17.5,\n",
              "       24.7, 12.6, 26.5, 28.7, 13.3, 10.4, 24.4, 23. , 20. , 17.8,  7. ,\n",
              "       11.8, 24.4, 13.8, 19.4, 25.2, 19.4, 19.4, 29.1])"
            ]
          },
          "metadata": {
            "tags": []
          },
          "execution_count": 4
        }
      ]
    },
    {
      "metadata": {
        "id": "3xb_3cDQqCrU",
        "colab_type": "text"
      },
      "cell_type": "markdown",
      "source": [
        "## 2. Preparing the data\n",
        "* It would be problematic to feed into a neural network values that all take wildly different\n",
        "ranges.\n",
        "* A widespread best practice\n",
        "to deal with such data is to do feature-wise normalization: for each feature in the input\n",
        "data (a column in the input data matrix), you subtract the mean of the feature and\n",
        "divide by the standard deviation, so that the feature is centered around 0 and has a\n",
        "unit standard deviation. This is easily done in Numpy.\n"
      ]
    },
    {
      "metadata": {
        "id": "321Eqk3wqhjh",
        "colab_type": "text"
      },
      "cell_type": "markdown",
      "source": [
        "### 2.1 Normalizing the data"
      ]
    },
    {
      "metadata": {
        "id": "laUZxCrop61M",
        "colab_type": "code",
        "colab": {}
      },
      "cell_type": "code",
      "source": [
        "#compute the mean\n",
        "mean = train_data.mean(axis=0)\n",
        "train_data -= mean#Normalize the train data\n",
        "\n",
        "#compute the std\n",
        "std = train_data.std(axis=0)\n",
        "train_data /= std#Normalize the train data\n",
        "\n"
      ],
      "execution_count": 0,
      "outputs": []
    },
    {
      "metadata": {
        "id": "UK8UlQwNraDZ",
        "colab_type": "code",
        "colab": {}
      },
      "cell_type": "code",
      "source": [
        "#Normalize the test data\n",
        "test_data -= mean\n",
        "test_data /= std"
      ],
      "execution_count": 0,
      "outputs": []
    },
    {
      "metadata": {
        "id": "58YEFqdnrgpB",
        "colab_type": "text"
      },
      "cell_type": "markdown",
      "source": [
        "## 3. Building your network\n",
        "\n",
        "Because so few samples are available, you’ll use a very small network with two hidden\n",
        "layers, each with 64 units. In general, the less training data you have, the worse overfitting\n",
        "will be, and using a small network is one way to mitigate overfitting."
      ]
    },
    {
      "metadata": {
        "id": "ktzvoNxlrq0B",
        "colab_type": "text"
      },
      "cell_type": "markdown",
      "source": [
        "### 3.1 Model definition"
      ]
    },
    {
      "metadata": {
        "id": "qLHxXRfirKNm",
        "colab_type": "code",
        "colab": {}
      },
      "cell_type": "code",
      "source": [
        "from keras import layers,models"
      ],
      "execution_count": 0,
      "outputs": []
    },
    {
      "metadata": {
        "id": "UDn9VoFRruZZ",
        "colab_type": "code",
        "colab": {}
      },
      "cell_type": "code",
      "source": [
        "def build_model():\n",
        "  model = models.Sequential()\n",
        "  \n",
        "  #1 hidden layer\n",
        "  model.add(layers.Dense(64, activation='relu',input_shape=(train_data.shape[1],)))\n",
        "  \n",
        "  # 2 hidden layer\n",
        "  model.add(layers.Dense(64, activation='relu'))\n",
        "  \n",
        "  #Output layer with no activation (equivalent to identity activation => for regression problems)\n",
        "  model.add(layers.Dense(1))\n",
        "  \n",
        "  # Compile the model (Note the loss function and metric)\n",
        "  model.compile(optimizer='rmsprop', loss='mse', metrics=['mae'])\n",
        "  \n",
        "  # return the compiled model\n",
        "  return model"
      ],
      "execution_count": 0,
      "outputs": []
    },
    {
      "metadata": {
        "id": "zMDoMFIWyttL",
        "colab_type": "text"
      },
      "cell_type": "markdown",
      "source": [
        "## 4. Validating your approach using K-fold validation\n",
        "\n",
        "To evaluate your network while you keep adjusting its parameters (such as the number of epochs used for training), you could split the data into a training set and a validation set, as you did in the previous examples. But because you have so few data points, the validation set would end up being very small (for instance, about 100 examples). As a consequence, the validation scores might change a lot depending on which data points you chose to use for validation and which you chose for training: the validation scores might have a high variance (overfitting) with regard to the validation split. This would prevent you from reliably evaluating your model.\n",
        "\n",
        "The best practice in such situations is to use K-fold cross-validation. It consists of splitting the available data into K partitions (typically K = 4 or 5), instantiating K identical models, and training each one on K – 1 partitions while evaluating on the remaining partition. The validation score for the model used is then the average of the K validation scores obtained. In terms of code, this is straightforward."
      ]
    },
    {
      "metadata": {
        "id": "SUTGJw6RzREh",
        "colab_type": "text"
      },
      "cell_type": "markdown",
      "source": [
        "### 4.1 K-fold validation"
      ]
    },
    {
      "metadata": {
        "id": "ycPhkVsB0xrY",
        "colab_type": "code",
        "colab": {}
      },
      "cell_type": "code",
      "source": [
        "import numpy as np"
      ],
      "execution_count": 0,
      "outputs": []
    },
    {
      "metadata": {
        "id": "ABJfg8zEyhkE",
        "colab_type": "code",
        "colab": {}
      },
      "cell_type": "code",
      "source": [
        "k = 4 # 4-fold CV\n",
        "num_val_samples = len(train_data) // k #Compute the size of each fold\n",
        "num_epochs = 100 #Run 100 epochs\n",
        "all_scores = [] #Records the scores for all the k iterations"
      ],
      "execution_count": 0,
      "outputs": []
    },
    {
      "metadata": {
        "id": "biQF3AGw0Fzi",
        "colab_type": "code",
        "outputId": "7e7ed038-5a2d-424a-c994-9292bf8f2e57",
        "colab": {
          "base_uri": "https://localhost:8080/",
          "height": 85
        }
      },
      "cell_type": "code",
      "source": [
        "for i in range(k):\n",
        "    print('processing fold #', i)\n",
        "    \n",
        "    # Prepare the validation data: data from partition 'i'\n",
        "    val_data = train_data[i * num_val_samples: (i + 1) * num_val_samples]\n",
        "    val_targets = train_targets[i * num_val_samples: (i + 1) * num_val_samples]\n",
        "    \n",
        "    # Prepare the training data: data from all other partitions\n",
        "    partial_train_data = np.concatenate([train_data[:i * num_val_samples],\n",
        "                                         train_data[(i + 1) * num_val_samples:]],\n",
        "                                        axis=0)\n",
        "    \n",
        "    partial_train_targets = np.concatenate([train_targets[:i * num_val_samples],\n",
        "                                            train_targets[(i + 1) * num_val_samples:]],\n",
        "                                           axis=0)\n",
        "    \n",
        "    # Builds the Keras model (already compiled)\n",
        "    model = build_model()\n",
        "    \n",
        "    # Train the model (in silent mode, verbose = 0)\n",
        "    # Note: batch_size = 1, executing pure SGD\n",
        "    model.fit(partial_train_data, partial_train_targets, epochs=num_epochs, batch_size=1, verbose=0)\n",
        "    \n",
        "    # Evaluate the model on the validation data\n",
        "    val_mse, val_mae = model.evaluate(val_data, val_targets, verbose=0)\n",
        "    \n",
        "    # Append the scores for the current iteration\n",
        "    all_scores.append(val_mae)"
      ],
      "execution_count": 0,
      "outputs": [
        {
          "output_type": "stream",
          "text": [
            "('processing fold #', 0)\n",
            "('processing fold #', 1)\n",
            "('processing fold #', 2)\n",
            "('processing fold #', 3)\n"
          ],
          "name": "stdout"
        }
      ]
    },
    {
      "metadata": {
        "id": "u9Wi_4Vx1t9-",
        "colab_type": "text"
      },
      "cell_type": "markdown",
      "source": [
        "Running this with num_epochs = 100 yields the following results:"
      ]
    },
    {
      "metadata": {
        "id": "ZifQf_qu1ChA",
        "colab_type": "code",
        "outputId": "a54eb6e8-7fdb-4858-cc29-fa0c92081bc9",
        "colab": {
          "base_uri": "https://localhost:8080/",
          "height": 34
        }
      },
      "cell_type": "code",
      "source": [
        "all_scores"
      ],
      "execution_count": 0,
      "outputs": [
        {
          "output_type": "execute_result",
          "data": {
            "text/plain": [
              "[2.0514025381295986, 2.200570547934806, 3.0062048624057582, 2.347621410199911]"
            ]
          },
          "metadata": {
            "tags": []
          },
          "execution_count": 13
        }
      ]
    },
    {
      "metadata": {
        "id": "Az9XDVhU0hBq",
        "colab_type": "code",
        "outputId": "155a5e60-d1f3-4366-ab72-f3b9762a709b",
        "colab": {
          "base_uri": "https://localhost:8080/",
          "height": 34
        }
      },
      "cell_type": "code",
      "source": [
        "np.mean(all_scores)"
      ],
      "execution_count": 0,
      "outputs": [
        {
          "output_type": "execute_result",
          "data": {
            "text/plain": [
              "2.4014498396675186"
            ]
          },
          "metadata": {
            "tags": []
          },
          "execution_count": 15
        }
      ]
    },
    {
      "metadata": {
        "id": "l5_kj1lR191F",
        "colab_type": "text"
      },
      "cell_type": "markdown",
      "source": [
        "The different runs do indeed show rather different validation scores, from 2.05 to 2.85. The average (2.36) is a much more reliable metric than any single score — that’s the entire point of K-fold cross-validation. In this case, you’re off by $2,360 on average.\n",
        "\n",
        "Let’s try training the network a bit longer: 500 epochs. To keep a record of how well the model does at each epoch, we’ll modify the training loop to save the perepoch validation score log.\n",
        "\n",
        "This may take about an hour"
      ]
    },
    {
      "metadata": {
        "id": "zOwXVXIx1gzg",
        "colab_type": "code",
        "outputId": "955100e9-308b-4eca-82eb-a8cc8eaefd69",
        "colab": {
          "base_uri": "https://localhost:8080/",
          "height": 85
        }
      },
      "cell_type": "code",
      "source": [
        "num_epochs = 500\n",
        "all_mae_histories = []\n",
        "\n",
        "for i in range(k):\n",
        "    print('processing fold #', i)\n",
        "    \n",
        "    # Prepare the validation data: data from partition 'i'\n",
        "    val_data = train_data[i * num_val_samples: (i + 1) * num_val_samples]\n",
        "    val_targets = train_targets[i * num_val_samples: (i + 1) * num_val_samples]\n",
        "    \n",
        "    # Prepare the training data: data from all other partitions\n",
        "    partial_train_data = np.concatenate([train_data[:i * num_val_samples], \\\n",
        "                                         train_data[(i + 1) * num_val_samples:]],\n",
        "                                        axis=0)\n",
        "    partial_train_targets = np.concatenate([train_targets[:i * num_val_samples],\n",
        "                                            train_targets[(i + 1) * num_val_samples:]],\n",
        "                                           axis=0)\n",
        "    \n",
        "    # Builds the Keras model (already compiled)\n",
        "    model = build_model()\n",
        "    \n",
        "    # Train the model (in silent mode, verbose=0)\n",
        "    history = model.fit(partial_train_data,\n",
        "                        partial_train_targets,\n",
        "                        validation_data=(val_data, val_targets),\n",
        "                        epochs=num_epochs,\n",
        "                        batch_size=1,\n",
        "                        verbose=0)\n",
        "    \n",
        "    mae_history = history.history['val_mean_absolute_error']\n",
        "    all_mae_histories.append(mae_history)"
      ],
      "execution_count": 0,
      "outputs": [
        {
          "output_type": "stream",
          "text": [
            "('processing fold #', 0)\n",
            "('processing fold #', 1)\n",
            "('processing fold #', 2)\n",
            "('processing fold #', 3)\n"
          ],
          "name": "stdout"
        }
      ]
    },
    {
      "metadata": {
        "id": "1bicqSsRBQVe",
        "colab_type": "code",
        "outputId": "8464be7c-336f-4835-f7cc-b67607a9286a",
        "colab": {
          "base_uri": "https://localhost:8080/",
          "height": 34
        }
      },
      "cell_type": "code",
      "source": [
        "# The dictionary contains following fields\n",
        "history.history.keys()"
      ],
      "execution_count": 0,
      "outputs": [
        {
          "output_type": "execute_result",
          "data": {
            "text/plain": [
              "['val_mean_absolute_error', 'loss', 'mean_absolute_error', 'val_loss']"
            ]
          },
          "metadata": {
            "tags": []
          },
          "execution_count": 17
        }
      ]
    },
    {
      "metadata": {
        "id": "SamyIzPnBmwF",
        "colab_type": "text"
      },
      "cell_type": "markdown",
      "source": [
        "\"all_mae_histories\" is a list of lists => It conatins 4 outer lists corresponding to each fold and each of these 4 lists contains 500 mae scores corresponding to 500 epochs of that fold as follows (each column below is a list):\n",
        "\n",
        "![alt text](https://drive.google.com/drive/u/0/folders/19m8eTUy_mr9o_9rbAQSJd1ZahMyuamF1)"
      ]
    },
    {
      "metadata": {
        "id": "6ZwekyH9CDBU",
        "colab_type": "code",
        "outputId": "9f7acfb0-f022-4abe-c867-130ed6cf228f",
        "colab": {
          "base_uri": "https://localhost:8080/",
          "height": 34
        }
      },
      "cell_type": "code",
      "source": [
        "len(all_mae_histories)"
      ],
      "execution_count": 0,
      "outputs": [
        {
          "output_type": "execute_result",
          "data": {
            "text/plain": [
              "4"
            ]
          },
          "metadata": {
            "tags": []
          },
          "execution_count": 18
        }
      ]
    },
    {
      "metadata": {
        "id": "MGprxi4mCguZ",
        "colab_type": "code",
        "outputId": "dd90908c-5d11-4436-ce4f-fe6894e621b3",
        "colab": {
          "base_uri": "https://localhost:8080/",
          "height": 34
        }
      },
      "cell_type": "code",
      "source": [
        "len(all_mae_histories[0])"
      ],
      "execution_count": 0,
      "outputs": [
        {
          "output_type": "execute_result",
          "data": {
            "text/plain": [
              "500"
            ]
          },
          "metadata": {
            "tags": []
          },
          "execution_count": 19
        }
      ]
    },
    {
      "metadata": {
        "id": "PnshTqjuCk7q",
        "colab_type": "text"
      },
      "cell_type": "markdown",
      "source": [
        "**Building the history of successive mean K-fold validation scores**\n",
        "The below code takes the average mae score for a particular epoch in each of the 4-folds.** Basically it is averaging the rows in the above table.**"
      ]
    },
    {
      "metadata": {
        "id": "-WljjmiOCryb",
        "colab_type": "code",
        "colab": {}
      },
      "cell_type": "code",
      "source": [
        "average_mae_history = [np.mean([x[i] for x in all_mae_histories]) for i in range(num_epochs)]"
      ],
      "execution_count": 0,
      "outputs": []
    },
    {
      "metadata": {
        "id": "R9yTQ3i-DlYA",
        "colab_type": "code",
        "outputId": "941e369f-e5ed-44f6-aee6-246231e7f1d8",
        "colab": {
          "base_uri": "https://localhost:8080/",
          "height": 34
        }
      },
      "cell_type": "code",
      "source": [
        "## Contains 500 scores(for each epoch) averaged over the 4 folds\n",
        "len(average_mae_history)"
      ],
      "execution_count": 0,
      "outputs": [
        {
          "output_type": "execute_result",
          "data": {
            "text/plain": [
              "500"
            ]
          },
          "metadata": {
            "tags": []
          },
          "execution_count": 21
        }
      ]
    },
    {
      "metadata": {
        "id": "HxjvDxYCDmVa",
        "colab_type": "code",
        "outputId": "b92a7614-9e25-4bc2-827f-6e5ac4e9363f",
        "colab": {
          "base_uri": "https://localhost:8080/",
          "height": 34
        }
      },
      "cell_type": "code",
      "source": [
        "np.mean(average_mae_history)"
      ],
      "execution_count": 0,
      "outputs": [
        {
          "output_type": "execute_result",
          "data": {
            "text/plain": [
              "2.604594944300038"
            ]
          },
          "metadata": {
            "tags": []
          },
          "execution_count": 22
        }
      ]
    },
    {
      "metadata": {
        "id": "sVM2N3WpDwen",
        "colab_type": "text"
      },
      "cell_type": "markdown",
      "source": [
        "### Plotting validation scores"
      ]
    },
    {
      "metadata": {
        "id": "UBiM-RUpEpq-",
        "colab_type": "code",
        "colab": {}
      },
      "cell_type": "code",
      "source": [
        "import matplotlib.pyplot as plt"
      ],
      "execution_count": 0,
      "outputs": []
    },
    {
      "metadata": {
        "id": "KGs8aeiNDx7Z",
        "colab_type": "code",
        "outputId": "b825c603-2611-4525-b972-7bc0cbc63e15",
        "colab": {
          "base_uri": "https://localhost:8080/",
          "height": 361
        }
      },
      "cell_type": "code",
      "source": [
        "# Range epochs from 1 to 500 instead of 0 to 499\n",
        "plt.plot(range(1, len(average_mae_history) + 1), average_mae_history)\n",
        "plt.xlabel('Epochs')\n",
        "plt.ylabel('Validation MAE')\n",
        "plt.show()"
      ],
      "execution_count": 0,
      "outputs": [
        {
          "output_type": "display_data",
          "data": {
            "image/png": "[encoded data removed]",
            "text/plain": [
              "<matplotlib.figure.Figure at 0x7f95cfb35fd0>"
            ]
          },
          "metadata": {
            "tags": []
          }
        }
      ]
    },
    {
      "metadata": {
        "id": "4_K0nsBgD345",
        "colab_type": "text"
      },
      "cell_type": "markdown",
      "source": [
        "It may be a little difficult to see the plot, due to scaling issues and relatively high variance.\n",
        "\n",
        "Let’s do the following:\n",
        "\n",
        "* Omit the first 10 data points, which are on a different scale than the rest of the curve.\n",
        "* Replace each point with an exponential moving average of the previous points, to obtain a smooth curve."
      ]
    },
    {
      "metadata": {
        "id": "JuyI5T7GD9I3",
        "colab_type": "text"
      },
      "cell_type": "markdown",
      "source": [
        "### Plotting validation scores, excluding the first 10 data points"
      ]
    },
    {
      "metadata": {
        "id": "tvVDYXUGD6R5",
        "colab_type": "code",
        "colab": {}
      },
      "cell_type": "code",
      "source": [
        "def smooth_curve(points, factor=0.9):\n",
        "    '''\n",
        "    Create a smooth curve by taking exponentially weigthed averages with a factor of 0.9\n",
        "    This is as good as taking an average over the previous 10 values in the series\n",
        "    '''\n",
        "    smoothed_points = []\n",
        "    for point in points:\n",
        "        if smoothed_points: # smoothed_points contains at least one value\n",
        "            previous = smoothed_points[-1]\n",
        "            smoothed_points.append(previous * factor + point * (1 - factor))\n",
        "        else: # Boundary case for the first value\n",
        "            smoothed_points.append(point)\n",
        "    return smoothed_points"
      ],
      "execution_count": 0,
      "outputs": []
    },
    {
      "metadata": {
        "id": "DW3PI3FEEGao",
        "colab_type": "code",
        "colab": {}
      },
      "cell_type": "code",
      "source": [
        "# Pass all the scores, except first 10\n",
        "smooth_mae_history = smooth_curve(average_mae_history[10:])"
      ],
      "execution_count": 0,
      "outputs": []
    },
    {
      "metadata": {
        "id": "fPBwsrTTEHUW",
        "colab_type": "code",
        "outputId": "e2bd9ba8-7c13-4c47-887c-923c12ddde82",
        "colab": {
          "base_uri": "https://localhost:8080/",
          "height": 361
        }
      },
      "cell_type": "code",
      "source": [
        "plt.plot(range(1, len(smooth_mae_history) + 1), smooth_mae_history)\n",
        "plt.xlabel('Epochs')\n",
        "plt.ylabel('Validation MAE')\n",
        "plt.show()"
      ],
      "execution_count": 0,
      "outputs": [
        {
          "output_type": "display_data",
          "data": {
            "image/png": "[encoded data removed]",
            "text/plain": [
              "<matplotlib.figure.Figure at 0x7f95cbc7eb50>"
            ]
          },
          "metadata": {
            "tags": []
          }
        }
      ]
    },
    {
      "metadata": {
        "id": "UwCH8R74ELgy",
        "colab_type": "text"
      },
      "cell_type": "markdown",
      "source": [
        "According to this plot, validation MAE stops improving significantly after 40 epochs. Past that point, you start overfitting."
      ]
    },
    {
      "metadata": {
        "id": "XYUuYLy5EOhO",
        "colab_type": "text"
      },
      "cell_type": "markdown",
      "source": [
        "#### Training the final model with 40 epochs"
      ]
    },
    {
      "metadata": {
        "id": "tqaOwEZ0EMOx",
        "colab_type": "code",
        "outputId": "7c7ad607-2f25-4c86-8965-e5c4b70337ff",
        "colab": {
          "base_uri": "https://localhost:8080/",
          "height": 34
        }
      },
      "cell_type": "code",
      "source": [
        "# Get a fresh, compiled model\n",
        "model = build_model()\n",
        "\n",
        "# Train it on the entirety of the data\n",
        "# Using batch_size=16\n",
        "model.fit(train_data, train_targets, epochs=40, batch_size=4, verbose=0)"
      ],
      "execution_count": 0,
      "outputs": [
        {
          "output_type": "execute_result",
          "data": {
            "text/plain": [
              "<keras.callbacks.History at 0x7f95c9b501d0>"
            ]
          },
          "metadata": {
            "tags": []
          },
          "execution_count": 32
        }
      ]
    },
    {
      "metadata": {
        "id": "PrD3iF9dEUV2",
        "colab_type": "code",
        "outputId": "cf617bea-6097-4e2b-a572-3691e29af241",
        "colab": {
          "base_uri": "https://localhost:8080/",
          "height": 34
        }
      },
      "cell_type": "code",
      "source": [
        "# Evaluate on the test data\n",
        "test_mse_score, test_mae_score = model.evaluate(test_data, test_targets)"
      ],
      "execution_count": 0,
      "outputs": [
        {
          "output_type": "stream",
          "text": [
            "102/102 [==============================] - 0s 1ms/step\n"
          ],
          "name": "stdout"
        }
      ]
    },
    {
      "metadata": {
        "id": "QoHQ-vk5EWWe",
        "colab_type": "code",
        "outputId": "7d9e507f-d204-40c4-8560-6199474092f1",
        "colab": {
          "base_uri": "https://localhost:8080/",
          "height": 34
        }
      },
      "cell_type": "code",
      "source": [
        "# Final score\n",
        "test_mae_score"
      ],
      "execution_count": 0,
      "outputs": [
        {
          "output_type": "execute_result",
          "data": {
            "text/plain": [
              "2.652942143234552"
            ]
          },
          "metadata": {
            "tags": []
          },
          "execution_count": 34
        }
      ]
    },
    {
      "metadata": {
        "id": "VPHY_56nE9o-",
        "colab_type": "text"
      },
      "cell_type": "markdown",
      "source": [
        "On the test set, we are off by about off $2,650"
      ]
    },
    {
      "metadata": {
        "id": "pYQVNEkUE_pW",
        "colab_type": "code",
        "colab": {}
      },
      "cell_type": "code",
      "source": [
        ""
      ],
      "execution_count": 0,
      "outputs": []
    }
  ]
}