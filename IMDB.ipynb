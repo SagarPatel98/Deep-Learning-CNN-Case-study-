{
  "nbformat": 4,
  "nbformat_minor": 0,
  "metadata": {
    "colab": {
      "name": "IMDB.ipynb",
      "version": "0.3.2",
      "provenance": []
    },
    "kernelspec": {
      "name": "python3",
      "display_name": "Python 3"
    }
  },
  "cells": [
    {
      "metadata": {
        "id": "kJncGERjXYch",
        "colab_type": "text"
      },
      "cell_type": "markdown",
      "source": [
        "##3 .Classifying movie reviews:\n",
        "**a binary classification example**\n",
        "\n",
        "Two-class classification, or binary classification, may be the most widely applied kind\n",
        "of machine-learning problem. In this example, you’ll learn to classify movie reviews as\n",
        "positive or negative, based on the text content of the reviews."
      ]
    },
    {
      "metadata": {
        "id": "tie5tvvGX5gW",
        "colab_type": "text"
      },
      "cell_type": "markdown",
      "source": [
        "### 3.1 The IMBD dataset\n",
        "* IMDB dataset: a set of 50,000 highly polarized reviews from the\n",
        "Internet Movie Database. They’re split into 25,000 reviews for training and 25,000\n",
        "reviews for testing, each set consisting of 50% negative and 50% positive reviews.\n",
        "* IMDB dataset comes packaged with Keras. It has\n",
        "already been preprocessed: the reviews (sequences of words) have been turned into\n",
        "sequences of integers, where each integer stands for a specific word in a dictionary."
      ]
    },
    {
      "metadata": {
        "id": "F_Tc-KUGYnxN",
        "colab_type": "text"
      },
      "cell_type": "markdown",
      "source": [
        "### 3.1.1  Loading the IMDB dataset"
      ]
    },
    {
      "metadata": {
        "id": "wodWRk8IXe5Y",
        "colab_type": "code",
        "colab": {}
      },
      "cell_type": "code",
      "source": [
        "from keras.datasets import imdb\n",
        "\n",
        "#keep the top 10,000 most frequently occurring words in the training data\n",
        "(train_data, train_labels), (test_data, test_labels) = imdb.load_data(num_words=10000)"
      ],
      "execution_count": 0,
      "outputs": []
    },
    {
      "metadata": {
        "id": "zW0pgw45aEvz",
        "colab_type": "text"
      },
      "cell_type": "markdown",
      "source": [
        "* The argument num_words=10000 means you’ll only keep the top 10,000 most frequently\n",
        "occurring words in the training data. Rare words will be discarded. This allows\n",
        "you to work with vector data of manageable size.\n",
        "* The variables train_data and test_data are lists of reviews; each review is a list of\n",
        "word indices (encoding a sequence of words). train_labels and test_labels are\n",
        "lists of 0s and 1s, where 0 stands for negative and 1 stands for positive:"
      ]
    },
    {
      "metadata": {
        "id": "UZIwwPe4Zxj7",
        "colab_type": "code",
        "outputId": "5e519fc2-18fb-424d-e86a-8b52d19c7bed",
        "colab": {
          "base_uri": "https://localhost:8080/",
          "height": 54
        }
      },
      "cell_type": "code",
      "source": [
        "print(train_data[0]) ## printing the 1 review in traing dataset"
      ],
      "execution_count": 0,
      "outputs": [
        {
          "output_type": "stream",
          "text": [
            "[1, 14, 22, 16, 43, 530, 973, 1622, 1385, 65, 458, 4468, 66, 3941, 4, 173, 36, 256, 5, 25, 100, 43, 838, 112, 50, 670, 2, 9, 35, 480, 284, 5, 150, 4, 172, 112, 167, 2, 336, 385, 39, 4, 172, 4536, 1111, 17, 546, 38, 13, 447, 4, 192, 50, 16, 6, 147, 2025, 19, 14, 22, 4, 1920, 4613, 469, 4, 22, 71, 87, 12, 16, 43, 530, 38, 76, 15, 13, 1247, 4, 22, 17, 515, 17, 12, 16, 626, 18, 2, 5, 62, 386, 12, 8, 316, 8, 106, 5, 4, 2223, 5244, 16, 480, 66, 3785, 33, 4, 130, 12, 16, 38, 619, 5, 25, 124, 51, 36, 135, 48, 25, 1415, 33, 6, 22, 12, 215, 28, 77, 52, 5, 14, 407, 16, 82, 2, 8, 4, 107, 117, 5952, 15, 256, 4, 2, 7, 3766, 5, 723, 36, 71, 43, 530, 476, 26, 400, 317, 46, 7, 4, 2, 1029, 13, 104, 88, 4, 381, 15, 297, 98, 32, 2071, 56, 26, 141, 6, 194, 7486, 18, 4, 226, 22, 21, 134, 476, 26, 480, 5, 144, 30, 5535, 18, 51, 36, 28, 224, 92, 25, 104, 4, 226, 65, 16, 38, 1334, 88, 12, 16, 283, 5, 16, 4472, 113, 103, 32, 15, 16, 5345, 19, 178, 32]\n"
          ],
          "name": "stdout"
        }
      ]
    },
    {
      "metadata": {
        "id": "pFl7PMQsaPas",
        "colab_type": "code",
        "outputId": "fa95b21c-2438-4b77-af13-302d783989ef",
        "colab": {
          "base_uri": "https://localhost:8080/",
          "height": 34
        }
      },
      "cell_type": "code",
      "source": [
        "print(train_labels[0])## label of 1 review"
      ],
      "execution_count": 0,
      "outputs": [
        {
          "output_type": "stream",
          "text": [
            "1\n"
          ],
          "name": "stdout"
        }
      ]
    },
    {
      "metadata": {
        "id": "Rfxy3rHwamcS",
        "colab_type": "code",
        "outputId": "8f4e4775-894b-4b5e-e5db-6e59789658aa",
        "colab": {
          "base_uri": "https://localhost:8080/",
          "height": 34
        }
      },
      "cell_type": "code",
      "source": [
        "## List comprehension gets the max of each review\n",
        "# Finally we get the max of those max\n",
        "max([max(sequences) for sequences in train_data])\n",
        "  "
      ],
      "execution_count": 0,
      "outputs": [
        {
          "output_type": "execute_result",
          "data": {
            "text/plain": [
              "9999"
            ]
          },
          "metadata": {
            "tags": []
          },
          "execution_count": 2
        }
      ]
    },
    {
      "metadata": {
        "id": "8t2A9d2mbASh",
        "colab_type": "code",
        "colab": {}
      },
      "cell_type": "code",
      "source": [
        "word_index = imdb.get_word_index()\n",
        "reverse_word_index = dict([(value, key) for (key, value) in word_index.items()])\n",
        "decoded_review = ' '.join([reverse_word_index.get(i-3,'?') for i in train_data[0]])"
      ],
      "execution_count": 0,
      "outputs": []
    },
    {
      "metadata": {
        "id": "RHBhmE-IiIvj",
        "colab_type": "code",
        "outputId": "c7248465-3110-4fa5-ffdd-12409df31f09",
        "colab": {
          "base_uri": "https://localhost:8080/",
          "height": 54
        }
      },
      "cell_type": "code",
      "source": [
        "print(decoded_review)"
      ],
      "execution_count": 0,
      "outputs": [
        {
          "output_type": "stream",
          "text": [
            "? this film was just brilliant casting location scenery story direction everyone's really suited the part they played and you could just imagine being there robert ? is an amazing actor and now the same being director ? father came from the same scottish island as myself so i loved the fact there was a real connection with this film the witty remarks throughout the film were great it was just brilliant so much that i bought the film as soon as it was released for ? and would recommend it to everyone to watch and the fly fishing was amazing really cried at the end it was so sad and you know what they say if you cry at a film it must have been good and this definitely was also ? to the two little boy's that played the ? of norman and paul they were just brilliant children are often left out of the ? list i think because the stars that play them all grown up are such a big profile for the whole film but these children are amazing and should be praised for what they have done don't you think the whole story was so lovely because it was true and was someone's life after all that was shared with us all\n"
          ],
          "name": "stdout"
        }
      ]
    },
    {
      "metadata": {
        "id": "Ikn5hSHqjz7_",
        "colab_type": "text"
      },
      "cell_type": "markdown",
      "source": [
        "## 3.2 Preparing the data"
      ]
    },
    {
      "metadata": {
        "id": "WVDGIvYckQj_",
        "colab_type": "text"
      },
      "cell_type": "markdown",
      "source": [
        "* You can’t feed lists of integers into a neural network. You have to turn your lists into tensors.\n",
        "* We use One-hot encoding to convert the reviews into vectors of 0s and 1s, for instance, turning the sequence [3, 5] into a 10,000-dimensional vector that would be all 0s except for indices 3 and 5, which would be 1s.\n",
        "* Then you could use as the first layer in your network a Dense layer, capable of handling floating-point vector data."
      ]
    },
    {
      "metadata": {
        "id": "aPGoWzw7kiMB",
        "colab_type": "text"
      },
      "cell_type": "markdown",
      "source": [
        "### 3.2.1 Encoding the integer sequences into a binary matrix"
      ]
    },
    {
      "metadata": {
        "id": "rDoVsZ60kZfP",
        "colab_type": "code",
        "colab": {}
      },
      "cell_type": "code",
      "source": [
        "import numpy as np\n",
        "\n",
        "def vectorize_sequences(sequences, dimension=10000):\n",
        "  results = np.zeros((len(sequences), dimension))#Creates an all-zero matrix of shape (len(sequences),dimension)\n",
        "  for i, sequence in enumerate(sequences):\n",
        "    results[i, sequence] = 1.#Sets specific indices of results[i] to 1s\n",
        "  return results"
      ],
      "execution_count": 0,
      "outputs": []
    },
    {
      "metadata": {
        "id": "BnM_tkz7lbo2",
        "colab_type": "code",
        "colab": {}
      },
      "cell_type": "code",
      "source": [
        "x_train = vectorize_sequences(train_data)#Vectorized training data\n",
        "x_test = vectorize_sequences(test_data)#Vectorized test data"
      ],
      "execution_count": 0,
      "outputs": []
    },
    {
      "metadata": {
        "id": "N_ByrzuCnUzr",
        "colab_type": "code",
        "outputId": "e585541d-88a0-4021-f10f-3ffac32d3ce9",
        "colab": {
          "base_uri": "https://localhost:8080/",
          "height": 34
        }
      },
      "cell_type": "code",
      "source": [
        "x_train[0]"
      ],
      "execution_count": 0,
      "outputs": [
        {
          "output_type": "execute_result",
          "data": {
            "text/plain": [
              "array([0., 1., 1., ..., 0., 0., 0.])"
            ]
          },
          "metadata": {
            "tags": []
          },
          "execution_count": 7
        }
      ]
    },
    {
      "metadata": {
        "id": "K5iCRNTLncWK",
        "colab_type": "code",
        "colab": {}
      },
      "cell_type": "code",
      "source": [
        "#vectoris the labels\n",
        "y_train = np.asarray(train_labels).astype('float32')\n",
        "y_test = np.asarray(test_labels).astype('float32')"
      ],
      "execution_count": 0,
      "outputs": []
    },
    {
      "metadata": {
        "id": "nJsk0x84nj_i",
        "colab_type": "code",
        "outputId": "33045c36-f51a-4da2-f13f-b16bedfe7911",
        "colab": {
          "base_uri": "https://localhost:8080/",
          "height": 34
        }
      },
      "cell_type": "code",
      "source": [
        "y_train"
      ],
      "execution_count": 0,
      "outputs": [
        {
          "output_type": "execute_result",
          "data": {
            "text/plain": [
              "array([1., 0., 0., ..., 0., 1., 0.], dtype=float32)"
            ]
          },
          "metadata": {
            "tags": []
          },
          "execution_count": 9
        }
      ]
    },
    {
      "metadata": {
        "id": "C1Ig6vekFPPT",
        "colab_type": "text"
      },
      "cell_type": "markdown",
      "source": [
        "## 3.3 Building your network"
      ]
    },
    {
      "metadata": {
        "id": "1MhKHPhCGaTq",
        "colab_type": "text"
      },
      "cell_type": "markdown",
      "source": [
        "### 3.3.1 The model definition"
      ]
    },
    {
      "metadata": {
        "id": "sfsUvHXoFIkk",
        "colab_type": "code",
        "colab": {}
      },
      "cell_type": "code",
      "source": [
        "from keras import models\n",
        "from keras import layers"
      ],
      "execution_count": 0,
      "outputs": []
    },
    {
      "metadata": {
        "id": "3a6Q6KKAFqZk",
        "colab_type": "code",
        "colab": {}
      },
      "cell_type": "code",
      "source": [
        "model=models.Sequential()\n",
        "model.add(layers.Dense(16,activation='relu',input_shape=(10000,)))\n",
        "model.add(layers.Dense(16, activation='relu'))\n",
        "model.add(layers.Dense(1, activation='sigmoid'))"
      ],
      "execution_count": 0,
      "outputs": []
    },
    {
      "metadata": {
        "id": "nRJCTavoGdXZ",
        "colab_type": "text"
      },
      "cell_type": "markdown",
      "source": [
        "### 3.3.2 Compiling the model"
      ]
    },
    {
      "metadata": {
        "id": "jakhVaxuGONq",
        "colab_type": "code",
        "colab": {}
      },
      "cell_type": "code",
      "source": [
        "model.compile(optimizer='rmsprop',loss='binary_crossentropy',metrics=['accuracy'])"
      ],
      "execution_count": 0,
      "outputs": []
    },
    {
      "metadata": {
        "id": "zW2y2VrxH_p_",
        "colab_type": "text"
      },
      "cell_type": "markdown",
      "source": [
        "## 3.4 Validating your approach\n",
        "\n",
        "In order to monitor during training the accuracy of the model on data it has never\n",
        "seen before, you’ll create a validation set by setting apart 10,000 samples from the\n",
        "original training data."
      ]
    },
    {
      "metadata": {
        "id": "7nahDHDmIa19",
        "colab_type": "text"
      },
      "cell_type": "markdown",
      "source": [
        "### 3.4.1 Setting aside a validation set"
      ]
    },
    {
      "metadata": {
        "id": "qpOEXLtgH3rY",
        "colab_type": "code",
        "colab": {}
      },
      "cell_type": "code",
      "source": [
        "x_val=x_train[:10000]\n",
        "partial_x_train=x_train[10000:]"
      ],
      "execution_count": 0,
      "outputs": []
    },
    {
      "metadata": {
        "id": "r8w1XikQItkm",
        "colab_type": "code",
        "colab": {}
      },
      "cell_type": "code",
      "source": [
        "y_val = y_train[:10000]\n",
        "partial_y_train = y_train[10000:]"
      ],
      "execution_count": 0,
      "outputs": []
    },
    {
      "metadata": {
        "id": "PLBogzrcKVzy",
        "colab_type": "code",
        "outputId": "3b48f5fa-adc7-458b-8fd4-94eaddfba2a4",
        "colab": {
          "base_uri": "https://localhost:8080/",
          "height": 51
        }
      },
      "cell_type": "code",
      "source": [
        "print(x_val.shape,y_val.shape)\n",
        "print(partial_x_train.shape,partial_y_train.shape)"
      ],
      "execution_count": 0,
      "outputs": [
        {
          "output_type": "stream",
          "text": [
            "(10000, 10000) (10000,)\n",
            "(15000, 10000) (15000,)\n"
          ],
          "name": "stdout"
        }
      ]
    },
    {
      "metadata": {
        "id": "YoTvORaVJD9j",
        "colab_type": "text"
      },
      "cell_type": "markdown",
      "source": [
        "### 3.4.2 Training your model"
      ]
    },
    {
      "metadata": {
        "id": "eVaxoVRNIx7F",
        "colab_type": "code",
        "outputId": "7a57b4ef-7ff7-47e0-b0eb-a9be3ce07814",
        "colab": {
          "base_uri": "https://localhost:8080/",
          "height": 734
        }
      },
      "cell_type": "code",
      "source": [
        "history = model.fit(partial_x_train,\n",
        "                    partial_y_train,\n",
        "                    epochs=20,\n",
        "                    batch_size=512,\n",
        "                    validation_data=(x_val, y_val))"
      ],
      "execution_count": 0,
      "outputs": [
        {
          "output_type": "stream",
          "text": [
            "Train on 15000 samples, validate on 10000 samples\n",
            "Epoch 1/20\n",
            "15000/15000 [==============================] - 2s 120us/step - loss: 0.5425 - acc: 0.7755 - val_loss: 0.4062 - val_acc: 0.8625\n",
            "Epoch 2/20\n",
            "15000/15000 [==============================] - 2s 114us/step - loss: 0.3249 - acc: 0.8963 - val_loss: 0.3290 - val_acc: 0.8717\n",
            "Epoch 3/20\n",
            "15000/15000 [==============================] - 2s 118us/step - loss: 0.2367 - acc: 0.9230 - val_loss: 0.2857 - val_acc: 0.8880\n",
            "Epoch 4/20\n",
            "15000/15000 [==============================] - 2s 119us/step - loss: 0.1853 - acc: 0.9399 - val_loss: 0.2737 - val_acc: 0.8908\n",
            "Epoch 5/20\n",
            "15000/15000 [==============================] - 2s 116us/step - loss: 0.1534 - acc: 0.9508 - val_loss: 0.2996 - val_acc: 0.8815\n",
            "Epoch 6/20\n",
            "15000/15000 [==============================] - 2s 116us/step - loss: 0.1239 - acc: 0.9616 - val_loss: 0.2869 - val_acc: 0.8867\n",
            "Epoch 7/20\n",
            "15000/15000 [==============================] - 2s 116us/step - loss: 0.1081 - acc: 0.9660 - val_loss: 0.3033 - val_acc: 0.8835\n",
            "Epoch 8/20\n",
            "15000/15000 [==============================] - 2s 116us/step - loss: 0.0873 - acc: 0.9743 - val_loss: 0.3201 - val_acc: 0.8810\n",
            "Epoch 9/20\n",
            "14336/15000 [===========================>..] - ETA: 0s - loss: 0.0708 - acc: 0.9819"
          ],
          "name": "stdout"
        },
        {
          "output_type": "stream",
          "text": [
            "15000/15000 [==============================] - 2s 117us/step - loss: 0.0708 - acc: 0.9819 - val_loss: 0.3390 - val_acc: 0.8811\n",
            "Epoch 10/20\n",
            "15000/15000 [==============================] - 2s 117us/step - loss: 0.0611 - acc: 0.9844 - val_loss: 0.3774 - val_acc: 0.8769\n",
            "Epoch 11/20\n",
            "15000/15000 [==============================] - 2s 117us/step - loss: 0.0482 - acc: 0.9890 - val_loss: 0.3916 - val_acc: 0.8741\n",
            "Epoch 12/20\n",
            "15000/15000 [==============================] - 2s 119us/step - loss: 0.0399 - acc: 0.9918 - val_loss: 0.4159 - val_acc: 0.8750\n",
            "Epoch 13/20\n",
            "15000/15000 [==============================] - 2s 117us/step - loss: 0.0343 - acc: 0.9934 - val_loss: 0.4666 - val_acc: 0.8725\n",
            "Epoch 14/20\n",
            "15000/15000 [==============================] - 2s 117us/step - loss: 0.0258 - acc: 0.9949 - val_loss: 0.4988 - val_acc: 0.8709\n",
            "Epoch 15/20\n",
            "15000/15000 [==============================] - 2s 118us/step - loss: 0.0197 - acc: 0.9965 - val_loss: 0.5261 - val_acc: 0.8638\n",
            "Epoch 16/20\n",
            "15000/15000 [==============================] - 2s 118us/step - loss: 0.0178 - acc: 0.9973 - val_loss: 0.5367 - val_acc: 0.8676\n",
            "Epoch 17/20\n",
            "15000/15000 [==============================] - 2s 117us/step - loss: 0.0126 - acc: 0.9987 - val_loss: 0.5688 - val_acc: 0.8690\n",
            "Epoch 18/20\n",
            " 5632/15000 [==========>...................] - ETA: 0s - loss: 0.0076 - acc: 0.9996"
          ],
          "name": "stdout"
        },
        {
          "output_type": "stream",
          "text": [
            "15000/15000 [==============================] - 2s 117us/step - loss: 0.0112 - acc: 0.9986 - val_loss: 0.6023 - val_acc: 0.8642\n",
            "Epoch 19/20\n",
            "15000/15000 [==============================] - 2s 117us/step - loss: 0.0066 - acc: 0.9996 - val_loss: 0.6552 - val_acc: 0.8650\n",
            "Epoch 20/20\n",
            "15000/15000 [==============================] - 2s 118us/step - loss: 0.0077 - acc: 0.9988 - val_loss: 0.6585 - val_acc: 0.8641\n"
          ],
          "name": "stdout"
        }
      ]
    },
    {
      "metadata": {
        "id": "xzPgANq1ZCXI",
        "colab_type": "text"
      },
      "cell_type": "markdown",
      "source": [
        "model.fit() returns a History object. This object has a member\n",
        "history, which is a dictionary containing data about everything that happened\n",
        "during training."
      ]
    },
    {
      "metadata": {
        "id": "iR7WfS16JYIU",
        "colab_type": "code",
        "outputId": "2b141788-0e15-4d2a-a9ea-751e7ebda14a",
        "colab": {
          "base_uri": "https://localhost:8080/",
          "height": 34
        }
      },
      "cell_type": "code",
      "source": [
        "history_dict=history.history\n",
        "history_dict.keys()"
      ],
      "execution_count": 0,
      "outputs": [
        {
          "output_type": "execute_result",
          "data": {
            "text/plain": [
              "dict_keys(['val_loss', 'val_acc', 'loss', 'acc'])"
            ]
          },
          "metadata": {
            "tags": []
          },
          "execution_count": 19
        }
      ]
    },
    {
      "metadata": {
        "id": "2TIH6Uh8ZcX-",
        "colab_type": "text"
      },
      "cell_type": "markdown",
      "source": [
        "### 3.4.3 Plotting the training and validation loss"
      ]
    },
    {
      "metadata": {
        "id": "UZeL2o2tY4mR",
        "colab_type": "code",
        "outputId": "a4a52bb9-fbe1-4af6-d0e4-bc620fe27aa2",
        "colab": {
          "base_uri": "https://localhost:8080/",
          "height": 376
        }
      },
      "cell_type": "code",
      "source": [
        "import matplotlib.pyplot as plt\n",
        "\n",
        "history_dict = history.history\n",
        "loss_values = history_dict['loss']\n",
        "val_loss_values = history_dict['val_loss']\n",
        "\n",
        "\n",
        "epochs = range(1, len(history_dict['acc']) + 1)\n",
        "\n",
        "plt.plot(epochs, loss_values, 'bo', label='Training loss')\n",
        "plt.plot(epochs, val_loss_values, 'b', label='Validation loss')\n",
        "plt.title('Training and validation loss')\n",
        "plt.xlabel('Epochs')\n",
        "plt.ylabel('Loss')\n",
        "plt.legend()\n",
        "plt.show()"
      ],
      "execution_count": 0,
      "outputs": [
        {
          "output_type": "display_data",
          "data": {
            "image/png": "[encoded data removed]",
            "text/plain": [
              "<matplotlib.figure.Figure at 0x7f3ef0967c18>"
            ]
          },
          "metadata": {
            "tags": []
          }
        }
      ]
    },
    {
      "metadata": {
        "id": "IZV6b-tCapEV",
        "colab_type": "text"
      },
      "cell_type": "markdown",
      "source": [
        "### 3.4.5 Plotting the training and validation accuracy"
      ]
    },
    {
      "metadata": {
        "id": "CqYLp0UPaFt1",
        "colab_type": "code",
        "outputId": "45e5cb07-1bbd-4e70-8296-014feef4508b",
        "colab": {
          "base_uri": "https://localhost:8080/",
          "height": 376
        }
      },
      "cell_type": "code",
      "source": [
        "train_acc = history_dict['acc']\n",
        "val_acc = history_dict['val_acc']\n",
        "plt.plot(epochs, train_acc, 'bo', label='Training acc')\n",
        "plt.plot(epochs, val_acc, 'b', label='Validation acc')\n",
        "plt.title('Training and validation accuracy')\n",
        "plt.xlabel('Epochs')\n",
        "plt.ylabel('Loss')\n",
        "plt.legend()\n",
        "plt.show()"
      ],
      "execution_count": 0,
      "outputs": [
        {
          "output_type": "display_data",
          "data": {
            "image/png": "[encoded data removed]",
            "text/plain": [
              "<matplotlib.figure.Figure at 0x7f3ef08e0ac8>"
            ]
          },
          "metadata": {
            "tags": []
          }
        }
      ]
    },
    {
      "metadata": {
        "id": "jsGB4qn6a8RE",
        "colab_type": "text"
      },
      "cell_type": "markdown",
      "source": [
        "\n",
        "As you can see, the training loss decreases with every epoch, and the training accuracy increases with every epoch. That’s what you would expect when running gradientdescent optimization—the quantity you’re trying to minimize should be less with every iteration. But that isn’t the case for the validation loss and accuracy: they seem to peak at the fourth epoch. This is is overfitting: after the second epoch, you’re overoptimizing on the training data, and you end up learning representations that are specific to the training data and don’t generalize to data outside of the training set."
      ]
    },
    {
      "metadata": {
        "id": "DbHH-nBabAky",
        "colab_type": "text"
      },
      "cell_type": "markdown",
      "source": [
        "Let’s train a new network from scratch for four epochs and then evaluate it on the test data."
      ]
    },
    {
      "metadata": {
        "id": "NZXdX1IRaw0d",
        "colab_type": "code",
        "outputId": "03d9b76a-1917-4aa5-d647-5c04cfe85e1e",
        "colab": {
          "base_uri": "https://localhost:8080/",
          "height": 170
        }
      },
      "cell_type": "code",
      "source": [
        "model = models.Sequential()\n",
        "model.add(layers.Dense(16, activation='relu', input_shape=(10000,)))\n",
        "model.add(layers.Dense(16, activation='relu'))\n",
        "model.add(layers.Dense(1, activation='sigmoid'))\n",
        "\n",
        "model.compile(optimizer='rmsprop',\n",
        "loss='binary_crossentropy',\n",
        "metrics=['accuracy'])\n",
        "\n",
        "model.fit(x_train, y_train, epochs=4, batch_size=512)\n",
        "results = model.evaluate(x_test, y_test)"
      ],
      "execution_count": 0,
      "outputs": [
        {
          "output_type": "stream",
          "text": [
            "Epoch 1/4\n",
            "25000/25000 [==============================] - 2s 88us/step - loss: 0.4731 - acc: 0.8209\n",
            "Epoch 2/4\n",
            "25000/25000 [==============================] - 2s 86us/step - loss: 0.2632 - acc: 0.9113\n",
            "Epoch 3/4\n",
            "25000/25000 [==============================] - 2s 86us/step - loss: 0.1991 - acc: 0.9305\n",
            "Epoch 4/4\n",
            "25000/25000 [==============================] - 2s 87us/step - loss: 0.1676 - acc: 0.9407\n",
            "25000/25000 [==============================] - 2s 81us/step\n"
          ],
          "name": "stdout"
        }
      ]
    },
    {
      "metadata": {
        "id": "dwkGLonLbIpM",
        "colab_type": "code",
        "outputId": "5cd32df5-e693-4195-87a8-886d3ba1736d",
        "colab": {
          "base_uri": "https://localhost:8080/",
          "height": 34
        }
      },
      "cell_type": "code",
      "source": [
        "results"
      ],
      "execution_count": 0,
      "outputs": [
        {
          "output_type": "execute_result",
          "data": {
            "text/plain": [
              "[0.3303547314453125, 0.87004]"
            ]
          },
          "metadata": {
            "tags": []
          },
          "execution_count": 25
        }
      ]
    },
    {
      "metadata": {
        "id": "UVsgxZrebm7t",
        "colab_type": "text"
      },
      "cell_type": "markdown",
      "source": [
        "Thus we get 87% accuracy with a fairly naive approach"
      ]
    },
    {
      "metadata": {
        "id": "NwdRS9mvbuwi",
        "colab_type": "text"
      },
      "cell_type": "markdown",
      "source": [
        "## 3.5 Using a trained network to generate predictions on new data"
      ]
    },
    {
      "metadata": {
        "id": "z4THKb60bSWc",
        "colab_type": "code",
        "outputId": "6525a4f8-94b4-4a2e-8925-caf19b2346fa",
        "colab": {
          "base_uri": "https://localhost:8080/",
          "height": 136
        }
      },
      "cell_type": "code",
      "source": [
        "model.predict(x_test)"
      ],
      "execution_count": 0,
      "outputs": [
        {
          "output_type": "execute_result",
          "data": {
            "text/plain": [
              "array([[0.1281182 ],\n",
              "       [0.9997328 ],\n",
              "       [0.25542396],\n",
              "       ...,\n",
              "       [0.07342929],\n",
              "       [0.0448592 ],\n",
              "       [0.4595468 ]], dtype=float32)"
            ]
          },
          "metadata": {
            "tags": []
          },
          "execution_count": 27
        }
      ]
    },
    {
      "metadata": {
        "id": "3uCWHwQVdEHm",
        "colab_type": "text"
      },
      "cell_type": "markdown",
      "source": [
        "As you can see, the network is confident for some samples (0.99 or more, or 0.01 or\n",
        "less) but less confident for others (0.6, 0.4)."
      ]
    },
    {
      "metadata": {
        "id": "rhxlBQz3dbxX",
        "colab_type": "text"
      },
      "cell_type": "markdown",
      "source": [
        "# Building model with :-\n",
        "\n",
        "* Trying only 1 hidden layer with 16 units\n",
        "* Trying 3 hidden layers (each with 16 units)\n",
        "* Trying 2 hidden layers each with 32 units\n",
        "* Trying the same above architecture and replace relu activation by tanh activation in both the hidden layers"
      ]
    },
    {
      "metadata": {
        "id": "LYEYZdB-idCe",
        "colab_type": "text"
      },
      "cell_type": "markdown",
      "source": [
        "##  **1 ) Trying only 1 hidden layer with 16 units**"
      ]
    },
    {
      "metadata": {
        "id": "NobgE1XOb2aD",
        "colab_type": "code",
        "colab": {}
      },
      "cell_type": "code",
      "source": [
        "from keras.datasets import imdb\n",
        "\n",
        "#keep the top 10,000 most frequently occurring words in the training data\n",
        "(train_data, train_labels), (test_data, test_labels) = imdb.load_data(num_words=10000)"
      ],
      "execution_count": 0,
      "outputs": []
    },
    {
      "metadata": {
        "id": "YvZB4J8qdyto",
        "colab_type": "code",
        "colab": {}
      },
      "cell_type": "code",
      "source": [
        "import numpy as np\n",
        "\n",
        "def vectorize_sequences(sequences, dimension=10000):\n",
        "  results = np.zeros((len(sequences), dimension))#Creates an all-zero matrix of shape (len(sequences),dimension)\n",
        "  for i, sequence in enumerate(sequences):\n",
        "    results[i, sequence] = 1.#Sets specific indices of results[i] to 1s\n",
        "  return results"
      ],
      "execution_count": 0,
      "outputs": []
    },
    {
      "metadata": {
        "id": "gxooNIUcd8--",
        "colab_type": "code",
        "colab": {}
      },
      "cell_type": "code",
      "source": [
        "x_train = vectorize_sequences(train_data)#Vectorized training data\n",
        "x_test = vectorize_sequences(test_data)#Vectorized test data"
      ],
      "execution_count": 0,
      "outputs": []
    },
    {
      "metadata": {
        "id": "4mbKWE78eBv3",
        "colab_type": "code",
        "colab": {}
      },
      "cell_type": "code",
      "source": [
        "#vectoris the labels\n",
        "y_train = np.asarray(train_labels).astype('float32')\n",
        "y_test = np.asarray(test_labels).astype('float32')"
      ],
      "execution_count": 0,
      "outputs": []
    },
    {
      "metadata": {
        "id": "GtXxfhmzeGH3",
        "colab_type": "code",
        "colab": {}
      },
      "cell_type": "code",
      "source": [
        "model=models.Sequential()\n",
        "model.add(layers.Dense(16,activation='relu',input_shape=(10000,)))#only one hidden layer\n",
        "model.add(layers.Dense(1, activation='sigmoid'))\n"
      ],
      "execution_count": 0,
      "outputs": []
    },
    {
      "metadata": {
        "id": "pjnnLQ7Vfh8L",
        "colab_type": "code",
        "colab": {}
      },
      "cell_type": "code",
      "source": [
        "model.compile(optimizer='rmsprop', loss='binary_crossentropy', metrics=['accuracy'])"
      ],
      "execution_count": 0,
      "outputs": []
    },
    {
      "metadata": {
        "id": "i7l6kD_JfpmG",
        "colab_type": "code",
        "colab": {}
      },
      "cell_type": "code",
      "source": [
        "# create a validation set by setting apart 10,000 samples from the original training data.\n",
        "x_val = x_train[:10000]\n",
        "partial_x_train = x_train[10000:]\n",
        "\n",
        "y_val = y_train[:10000]\n",
        "partial_y_train = y_train[10000:]"
      ],
      "execution_count": 0,
      "outputs": []
    },
    {
      "metadata": {
        "id": "IZaZyGRHf_Rk",
        "colab_type": "code",
        "outputId": "f29e0718-8ee3-4188-bb34-923f7dea5f6e",
        "colab": {
          "base_uri": "https://localhost:8080/",
          "height": 734
        }
      },
      "cell_type": "code",
      "source": [
        "history = model.fit(partial_x_train,\n",
        "                    partial_y_train,\n",
        "                    epochs=20,\n",
        "                    batch_size=512,\n",
        "                    validation_data=(x_val, y_val))"
      ],
      "execution_count": 0,
      "outputs": [
        {
          "output_type": "stream",
          "text": [
            "Train on 15000 samples, validate on 10000 samples\n",
            "Epoch 1/20\n",
            "15000/15000 [==============================] - 2s 133us/step - loss: 0.4968 - acc: 0.7955 - val_loss: 0.3875 - val_acc: 0.8698\n",
            "Epoch 2/20\n",
            "15000/15000 [==============================] - 2s 120us/step - loss: 0.3170 - acc: 0.9039 - val_loss: 0.3180 - val_acc: 0.8875\n",
            "Epoch 3/20\n",
            "15000/15000 [==============================] - 2s 127us/step - loss: 0.2440 - acc: 0.9251 - val_loss: 0.2993 - val_acc: 0.8824\n",
            "Epoch 4/20\n",
            "15000/15000 [==============================] - 2s 125us/step - loss: 0.2014 - acc: 0.9390 - val_loss: 0.2802 - val_acc: 0.8884\n",
            "Epoch 5/20\n",
            "15000/15000 [==============================] - 2s 125us/step - loss: 0.1712 - acc: 0.9503 - val_loss: 0.2762 - val_acc: 0.8870\n",
            "Epoch 6/20\n",
            "15000/15000 [==============================] - 2s 122us/step - loss: 0.1478 - acc: 0.9558 - val_loss: 0.2775 - val_acc: 0.8857\n",
            "Epoch 7/20\n",
            "15000/15000 [==============================] - 2s 125us/step - loss: 0.1297 - acc: 0.9629 - val_loss: 0.2790 - val_acc: 0.8884\n",
            "Epoch 8/20\n",
            "15000/15000 [==============================] - 2s 124us/step - loss: 0.1139 - acc: 0.9686 - val_loss: 0.2937 - val_acc: 0.8820\n",
            "Epoch 9/20\n",
            "11264/15000 [=====================>........] - ETA: 0s - loss: 0.1007 - acc: 0.9737"
          ],
          "name": "stdout"
        },
        {
          "output_type": "stream",
          "text": [
            "15000/15000 [==============================] - 2s 125us/step - loss: 0.1002 - acc: 0.9739 - val_loss: 0.3006 - val_acc: 0.8813\n",
            "Epoch 10/20\n",
            "15000/15000 [==============================] - 2s 124us/step - loss: 0.0892 - acc: 0.9777 - val_loss: 0.3064 - val_acc: 0.8824\n",
            "Epoch 11/20\n",
            "15000/15000 [==============================] - 2s 123us/step - loss: 0.0798 - acc: 0.9803 - val_loss: 0.3241 - val_acc: 0.8832\n",
            "Epoch 12/20\n",
            "15000/15000 [==============================] - 2s 124us/step - loss: 0.0696 - acc: 0.9847 - val_loss: 0.3473 - val_acc: 0.8734\n",
            "Epoch 13/20\n",
            "15000/15000 [==============================] - 2s 124us/step - loss: 0.0618 - acc: 0.9869 - val_loss: 0.3506 - val_acc: 0.8758\n",
            "Epoch 14/20\n",
            "15000/15000 [==============================] - 2s 122us/step - loss: 0.0553 - acc: 0.9881 - val_loss: 0.3693 - val_acc: 0.8789\n",
            "Epoch 15/20\n",
            "15000/15000 [==============================] - 2s 119us/step - loss: 0.0490 - acc: 0.9911 - val_loss: 0.3740 - val_acc: 0.8786\n",
            "Epoch 16/20\n",
            "15000/15000 [==============================] - 2s 118us/step - loss: 0.0428 - acc: 0.9923 - val_loss: 0.3952 - val_acc: 0.8762\n",
            "Epoch 17/20\n",
            "15000/15000 [==============================] - 2s 120us/step - loss: 0.0378 - acc: 0.9938 - val_loss: 0.4147 - val_acc: 0.8705\n",
            "Epoch 18/20\n",
            " 4096/15000 [=======>......................] - ETA: 0s - loss: 0.0305 - acc: 0.9971"
          ],
          "name": "stdout"
        },
        {
          "output_type": "stream",
          "text": [
            "15000/15000 [==============================] - 2s 121us/step - loss: 0.0331 - acc: 0.9951 - val_loss: 0.4312 - val_acc: 0.8716\n",
            "Epoch 19/20\n",
            "15000/15000 [==============================] - 2s 120us/step - loss: 0.0295 - acc: 0.9952 - val_loss: 0.4458 - val_acc: 0.8696\n",
            "Epoch 20/20\n",
            "15000/15000 [==============================] - 2s 120us/step - loss: 0.0255 - acc: 0.9969 - val_loss: 0.4596 - val_acc: 0.8725\n"
          ],
          "name": "stdout"
        }
      ]
    },
    {
      "metadata": {
        "id": "ID0Lmr_jgBpT",
        "colab_type": "code",
        "outputId": "eb4c634d-24ca-405e-cd5b-32b68497b7e7",
        "colab": {
          "base_uri": "https://localhost:8080/",
          "height": 34
        }
      },
      "cell_type": "code",
      "source": [
        "history_dict = history.history\n",
        "history_dict.keys()"
      ],
      "execution_count": 0,
      "outputs": [
        {
          "output_type": "execute_result",
          "data": {
            "text/plain": [
              "dict_keys(['val_loss', 'val_acc', 'loss', 'acc'])"
            ]
          },
          "metadata": {
            "tags": []
          },
          "execution_count": 16
        }
      ]
    },
    {
      "metadata": {
        "id": "epZwWXpGhEML",
        "colab_type": "code",
        "outputId": "4da48a5a-ce95-4738-9320-b5eace995bad",
        "colab": {
          "base_uri": "https://localhost:8080/",
          "height": 376
        }
      },
      "cell_type": "code",
      "source": [
        "import matplotlib.pyplot as plt\n",
        "\n",
        "train_loss_values = history_dict['loss']\n",
        "val_loss_values = history_dict['val_loss']\n",
        "\n",
        "epochs = range(1, len(history_dict['acc']) + 1)\n",
        "\n",
        "plt.plot(epochs, train_loss_values, 'bo', label='Training loss')\n",
        "plt.plot(epochs, val_loss_values, 'b', label='Validation loss')\n",
        "plt.title('Training and validation loss')\n",
        "plt.xlabel('Epochs')\n",
        "plt.ylabel('Loss')\n",
        "plt.legend()\n",
        "plt.show()"
      ],
      "execution_count": 0,
      "outputs": [
        {
          "output_type": "display_data",
          "data": {
            "image/png": "[encoded data removed]",
            "text/plain": [
              "<matplotlib.figure.Figure at 0x7f228ee859b0>"
            ]
          },
          "metadata": {
            "tags": []
          }
        }
      ]
    },
    {
      "metadata": {
        "id": "3v7M23SOhJTg",
        "colab_type": "code",
        "outputId": "4bfff05b-0d21-462a-f842-217d19627332",
        "colab": {
          "base_uri": "https://localhost:8080/",
          "height": 376
        }
      },
      "cell_type": "code",
      "source": [
        "train_acc = history_dict['acc']\n",
        "val_acc = history_dict['val_acc']\n",
        "plt.plot(epochs, train_acc, 'bo', label='Training acc')\n",
        "plt.plot(epochs, val_acc, 'b', label='Validation acc')\n",
        "plt.title('Training and validation accuracy')\n",
        "plt.xlabel('Epochs')\n",
        "plt.ylabel('Loss')\n",
        "plt.legend()\n",
        "plt.show()"
      ],
      "execution_count": 0,
      "outputs": [
        {
          "output_type": "display_data",
          "data": {
            "image/png": "[encoded data removed]",
            "text/plain": [
              "<matplotlib.figure.Figure at 0x7f22878ad7f0>"
            ]
          },
          "metadata": {
            "tags": []
          }
        }
      ]
    },
    {
      "metadata": {
        "id": "TGdNVXNDhfVx",
        "colab_type": "code",
        "outputId": "8c7e6663-c94b-4a5e-9abb-87273629a27a",
        "colab": {
          "base_uri": "https://localhost:8080/",
          "height": 204
        }
      },
      "cell_type": "code",
      "source": [
        "model = models.Sequential()\n",
        "model.add(layers.Dense(16, activation='relu', input_shape=(10000,)))\n",
        "\n",
        "model.add(layers.Dense(1, activation='sigmoid'))\n",
        "\n",
        "model.compile(optimizer='rmsprop', loss='binary_crossentropy', metrics=['accuracy'])\n",
        "\n",
        "model.fit(x_train, y_train, epochs=5, batch_size=512)\n",
        "results = model.evaluate(x_test, y_test)"
      ],
      "execution_count": 0,
      "outputs": [
        {
          "output_type": "stream",
          "text": [
            "Epoch 1/5\n",
            "25000/25000 [==============================] - 2s 79us/step - loss: 0.4403 - acc: 0.8300\n",
            "Epoch 2/5\n",
            "25000/25000 [==============================] - 2s 83us/step - loss: 0.2702 - acc: 0.9103\n",
            "Epoch 3/5\n",
            "25000/25000 [==============================] - 2s 86us/step - loss: 0.2142 - acc: 0.9276\n",
            "Epoch 4/5\n",
            "25000/25000 [==============================] - 2s 84us/step - loss: 0.1832 - acc: 0.9369\n",
            "Epoch 5/5\n",
            "25000/25000 [==============================] - 2s 83us/step - loss: 0.1616 - acc: 0.9446\n",
            "25000/25000 [==============================] - 2s 76us/step\n"
          ],
          "name": "stdout"
        }
      ]
    },
    {
      "metadata": {
        "id": "YcIiKdbmhtEQ",
        "colab_type": "code",
        "outputId": "ca500073-7fd7-4da5-addd-bc8c47cccf75",
        "colab": {
          "base_uri": "https://localhost:8080/",
          "height": 34
        }
      },
      "cell_type": "code",
      "source": [
        "results"
      ],
      "execution_count": 0,
      "outputs": [
        {
          "output_type": "execute_result",
          "data": {
            "text/plain": [
              "[0.29386149538993833, 0.8816]"
            ]
          },
          "metadata": {
            "tags": []
          },
          "execution_count": 21
        }
      ]
    },
    {
      "metadata": {
        "id": "x1HQkdRbiC0q",
        "colab_type": "text"
      },
      "cell_type": "markdown",
      "source": [
        "Thus we get 88.1% accuracy with a fairly naive approach"
      ]
    },
    {
      "metadata": {
        "id": "fTOYcP5bhy4w",
        "colab_type": "code",
        "outputId": "b9492784-6f2f-4eeb-a08a-e67e95e51c6c",
        "colab": {
          "base_uri": "https://localhost:8080/",
          "height": 136
        }
      },
      "cell_type": "code",
      "source": [
        "model.predict(x_test)"
      ],
      "execution_count": 0,
      "outputs": [
        {
          "output_type": "execute_result",
          "data": {
            "text/plain": [
              "array([[0.20299584],\n",
              "       [0.9999181 ],\n",
              "       [0.69670904],\n",
              "       ...,\n",
              "       [0.11750636],\n",
              "       [0.06967304],\n",
              "       [0.55051583]], dtype=float32)"
            ]
          },
          "metadata": {
            "tags": []
          },
          "execution_count": 22
        }
      ]
    },
    {
      "metadata": {
        "id": "tTjSxPv8iklk",
        "colab_type": "text"
      },
      "cell_type": "markdown",
      "source": [
        "## **2) Trying 3 hidden layers (each with 16 units)**"
      ]
    },
    {
      "metadata": {
        "id": "CbKG4kr2iR5X",
        "colab_type": "code",
        "colab": {}
      },
      "cell_type": "code",
      "source": [
        "model=models.Sequential()\n",
        "model.add(layers.Dense(16,activation='relu',input_shape=(10000,)))#1st hidden layer\n",
        "model.add(layers.Dense(16, activation='relu'))#2st hidden layer\n",
        "model.add(layers.Dense(16, activation='relu'))#3st hidden layer\n",
        "model.add(layers.Dense(1, activation='sigmoid'))"
      ],
      "execution_count": 0,
      "outputs": []
    },
    {
      "metadata": {
        "id": "QnUTV3BFi_Tl",
        "colab_type": "code",
        "colab": {}
      },
      "cell_type": "code",
      "source": [
        "model.compile(optimizer='rmsprop', loss='binary_crossentropy', metrics=['accuracy'])"
      ],
      "execution_count": 0,
      "outputs": []
    },
    {
      "metadata": {
        "id": "4a0qyPQtjX4l",
        "colab_type": "code",
        "colab": {}
      },
      "cell_type": "code",
      "source": [
        "# create a validation set by setting apart 10,000 samples from the original training data.\n",
        "x_val = x_train[:10000]\n",
        "partial_x_train = x_train[10000:]\n",
        "\n",
        "y_val = y_train[:10000]\n",
        "partial_y_train = y_train[10000:]"
      ],
      "execution_count": 0,
      "outputs": []
    },
    {
      "metadata": {
        "id": "LuZ-rR4Kji_k",
        "colab_type": "code",
        "outputId": "7cd7d02a-3976-4326-b592-6df8a03bb6ae",
        "colab": {
          "base_uri": "https://localhost:8080/",
          "height": 564
        }
      },
      "cell_type": "code",
      "source": [
        "history = model.fit(partial_x_train,\n",
        "                    partial_y_train,\n",
        "                    epochs=15,\n",
        "                    batch_size=512,\n",
        "                    validation_data=(x_val, y_val))"
      ],
      "execution_count": 0,
      "outputs": [
        {
          "output_type": "stream",
          "text": [
            "Train on 15000 samples, validate on 10000 samples\n",
            "Epoch 1/15\n",
            "15000/15000 [==============================] - 2s 158us/step - loss: 0.5302 - acc: 0.7838 - val_loss: 0.3813 - val_acc: 0.8736\n",
            "Epoch 2/15\n",
            "15000/15000 [==============================] - 2s 126us/step - loss: 0.2982 - acc: 0.9017 - val_loss: 0.3011 - val_acc: 0.8856\n",
            "Epoch 3/15\n",
            "15000/15000 [==============================] - 2s 121us/step - loss: 0.2120 - acc: 0.9290 - val_loss: 0.3382 - val_acc: 0.8599\n",
            "Epoch 4/15\n",
            "15000/15000 [==============================] - 2s 120us/step - loss: 0.1673 - acc: 0.9422 - val_loss: 0.2761 - val_acc: 0.8889\n",
            "Epoch 5/15\n",
            "15000/15000 [==============================] - 2s 119us/step - loss: 0.1326 - acc: 0.9567 - val_loss: 0.3108 - val_acc: 0.8825\n",
            "Epoch 6/15\n",
            "15000/15000 [==============================] - 2s 121us/step - loss: 0.1062 - acc: 0.9665 - val_loss: 0.3073 - val_acc: 0.8846\n",
            "Epoch 7/15\n",
            "15000/15000 [==============================] - 2s 120us/step - loss: 0.0847 - acc: 0.9750 - val_loss: 0.3364 - val_acc: 0.8819\n",
            "Epoch 8/15\n",
            "15000/15000 [==============================] - 2s 121us/step - loss: 0.0683 - acc: 0.9797 - val_loss: 0.3617 - val_acc: 0.8807\n",
            "Epoch 9/15\n",
            "11776/15000 [======================>.......] - ETA: 0s - loss: 0.0501 - acc: 0.9865"
          ],
          "name": "stdout"
        },
        {
          "output_type": "stream",
          "text": [
            "15000/15000 [==============================] - 2s 117us/step - loss: 0.0506 - acc: 0.9862 - val_loss: 0.3928 - val_acc: 0.8779\n",
            "Epoch 10/15\n",
            "15000/15000 [==============================] - 2s 119us/step - loss: 0.0425 - acc: 0.9883 - val_loss: 0.5409 - val_acc: 0.8570\n",
            "Epoch 11/15\n",
            "15000/15000 [==============================] - 2s 122us/step - loss: 0.0309 - acc: 0.9928 - val_loss: 0.4863 - val_acc: 0.8703\n",
            "Epoch 12/15\n",
            "15000/15000 [==============================] - 2s 118us/step - loss: 0.0196 - acc: 0.9970 - val_loss: 0.5257 - val_acc: 0.8649\n",
            "Epoch 13/15\n",
            "15000/15000 [==============================] - 2s 118us/step - loss: 0.0210 - acc: 0.9955 - val_loss: 0.5257 - val_acc: 0.8727\n",
            "Epoch 14/15\n",
            "15000/15000 [==============================] - 2s 119us/step - loss: 0.0197 - acc: 0.9947 - val_loss: 0.5592 - val_acc: 0.8720\n",
            "Epoch 15/15\n",
            "15000/15000 [==============================] - 2s 119us/step - loss: 0.0074 - acc: 0.9996 - val_loss: 0.6180 - val_acc: 0.8646\n"
          ],
          "name": "stdout"
        }
      ]
    },
    {
      "metadata": {
        "id": "tTg0QUdjkDPP",
        "colab_type": "code",
        "outputId": "86bf58a2-cd21-4ec6-d347-f4f24c62fceb",
        "colab": {
          "base_uri": "https://localhost:8080/",
          "height": 34
        }
      },
      "cell_type": "code",
      "source": [
        "history_dict = history.history\n",
        "history_dict.keys()"
      ],
      "execution_count": 0,
      "outputs": [
        {
          "output_type": "execute_result",
          "data": {
            "text/plain": [
              "dict_keys(['val_loss', 'val_acc', 'loss', 'acc'])"
            ]
          },
          "metadata": {
            "tags": []
          },
          "execution_count": 13
        }
      ]
    },
    {
      "metadata": {
        "id": "PgyK7ld0jaj-",
        "colab_type": "code",
        "outputId": "49d1e95d-76bd-41ae-c566-cfc1a9dc69ac",
        "colab": {
          "base_uri": "https://localhost:8080/",
          "height": 376
        }
      },
      "cell_type": "code",
      "source": [
        "import matplotlib.pyplot as plt\n",
        "\n",
        "train_loss_values = history_dict['loss']\n",
        "val_loss_values = history_dict['val_loss']\n",
        "\n",
        "epochs = range(1, len(history_dict['acc']) + 1)\n",
        "\n",
        "plt.plot(epochs, train_loss_values, 'bo', label='Training loss')\n",
        "plt.plot(epochs, val_loss_values, 'b', label='Validation loss')\n",
        "plt.title('Training and validation loss')\n",
        "plt.xlabel('Epochs')\n",
        "plt.ylabel('Loss')\n",
        "plt.legend()\n",
        "plt.show()"
      ],
      "execution_count": 0,
      "outputs": [
        {
          "output_type": "display_data",
          "data": {
            "image/png": "[encoded data removed]",
            "text/plain": [
              "<matplotlib.figure.Figure at 0x7f38253522b0>"
            ]
          },
          "metadata": {
            "tags": []
          }
        }
      ]
    },
    {
      "metadata": {
        "id": "U_u3C9OBjqKr",
        "colab_type": "code",
        "outputId": "85ffd216-db04-46cc-9839-4d321a5e7c26",
        "colab": {
          "base_uri": "https://localhost:8080/",
          "height": 376
        }
      },
      "cell_type": "code",
      "source": [
        "train_acc = history_dict['acc']\n",
        "val_acc = history_dict['val_acc']\n",
        "plt.plot(epochs, train_acc, 'bo', label='Training acc')\n",
        "plt.plot(epochs, val_acc, 'b', label='Validation acc')\n",
        "plt.title('Training and validation accuracy')\n",
        "plt.xlabel('Epochs')\n",
        "plt.ylabel('Loss')\n",
        "plt.legend()\n",
        "plt.show()"
      ],
      "execution_count": 0,
      "outputs": [
        {
          "output_type": "display_data",
          "data": {
            "image/png": "[encoded data removed]",
            "text/plain": [
              "<matplotlib.figure.Figure at 0x7f3825352c50>"
            ]
          },
          "metadata": {
            "tags": []
          }
        }
      ]
    },
    {
      "metadata": {
        "id": "dZLoq_gukMO8",
        "colab_type": "code",
        "outputId": "39b09c61-afb1-4d4a-c13b-12b8dac3b97f",
        "colab": {
          "base_uri": "https://localhost:8080/",
          "height": 170
        }
      },
      "cell_type": "code",
      "source": [
        "model = models.Sequential()\n",
        "model.add(layers.Dense(16, activation='relu', input_shape=(10000,)))#1 hidden layer\n",
        "model.add(layers.Dense(16, activation='relu'))#2 hidden layer\n",
        "model.add(layers.Dense(16, activation='relu'))#3 hidden layer\n",
        "model.add(layers.Dense(1, activation='sigmoid'))\n",
        "\n",
        "model.compile(optimizer='rmsprop', loss='binary_crossentropy', metrics=['accuracy'])\n",
        "\n",
        "model.fit(x_train, y_train, epochs=4, batch_size=512)\n",
        "results = model.evaluate(x_test, y_test)"
      ],
      "execution_count": 0,
      "outputs": [
        {
          "output_type": "stream",
          "text": [
            "Epoch 1/4\n",
            "25000/25000 [==============================] - 3s 113us/step - loss: 0.4653 - acc: 0.8200\n",
            "Epoch 2/4\n",
            "25000/25000 [==============================] - 2s 89us/step - loss: 0.2573 - acc: 0.9105\n",
            "Epoch 3/4\n",
            "25000/25000 [==============================] - 2s 84us/step - loss: 0.1960 - acc: 0.9285\n",
            "Epoch 4/4\n",
            "25000/25000 [==============================] - 2s 84us/step - loss: 0.1622 - acc: 0.9424\n",
            "25000/25000 [==============================] - 2s 74us/step\n"
          ],
          "name": "stdout"
        }
      ]
    },
    {
      "metadata": {
        "id": "Qxtf1qUwkZVb",
        "colab_type": "code",
        "outputId": "52752c56-6991-4a43-f2e2-1d7c42c85fcb",
        "colab": {
          "base_uri": "https://localhost:8080/",
          "height": 34
        }
      },
      "cell_type": "code",
      "source": [
        "results"
      ],
      "execution_count": 0,
      "outputs": [
        {
          "output_type": "execute_result",
          "data": {
            "text/plain": [
              "[0.3121150800991058, 0.87976]"
            ]
          },
          "metadata": {
            "tags": []
          },
          "execution_count": 17
        }
      ]
    },
    {
      "metadata": {
        "id": "iX9xrppRkqy6",
        "colab_type": "text"
      },
      "cell_type": "markdown",
      "source": [
        "Thus we get 87.9% accuracy with a fairly naive approach"
      ]
    },
    {
      "metadata": {
        "id": "-eTorEiKkfbr",
        "colab_type": "code",
        "outputId": "0b4c57d4-1716-4d87-d60f-7e407a981451",
        "colab": {
          "base_uri": "https://localhost:8080/",
          "height": 136
        }
      },
      "cell_type": "code",
      "source": [
        "model.predict(x_test)"
      ],
      "execution_count": 0,
      "outputs": [
        {
          "output_type": "execute_result",
          "data": {
            "text/plain": [
              "array([[0.30295524],\n",
              "       [0.9999733 ],\n",
              "       [0.95539063],\n",
              "       ...,\n",
              "       [0.14163104],\n",
              "       [0.13014808],\n",
              "       [0.85656714]], dtype=float32)"
            ]
          },
          "metadata": {
            "tags": []
          },
          "execution_count": 18
        }
      ]
    },
    {
      "metadata": {
        "id": "Xk7_7cfTk5ta",
        "colab_type": "text"
      },
      "cell_type": "markdown",
      "source": [
        "## **3) Trying 2 hidden layers each with 32 units**"
      ]
    },
    {
      "metadata": {
        "id": "Js0gOAq5kyDq",
        "colab_type": "code",
        "colab": {}
      },
      "cell_type": "code",
      "source": [
        "model=models.Sequential()\n",
        "model.add(layers.Dense(32,activation='relu',input_shape=(10000,)))#1st hidden layer\n",
        "model.add(layers.Dense(32, activation='relu'))#2st hidden layer\n",
        "\n",
        "model.add(layers.Dense(1, activation='sigmoid'))"
      ],
      "execution_count": 0,
      "outputs": []
    },
    {
      "metadata": {
        "id": "9femCqumlIc7",
        "colab_type": "code",
        "colab": {}
      },
      "cell_type": "code",
      "source": [
        "model.compile(optimizer='rmsprop', loss='binary_crossentropy', metrics=['accuracy'])"
      ],
      "execution_count": 0,
      "outputs": []
    },
    {
      "metadata": {
        "id": "HfRLxMxflMjy",
        "colab_type": "code",
        "outputId": "63f68d74-ce49-4c17-f0f0-79a3b188a8f5",
        "colab": {
          "base_uri": "https://localhost:8080/",
          "height": 564
        }
      },
      "cell_type": "code",
      "source": [
        "history = model.fit(partial_x_train,\n",
        "                    partial_y_train,\n",
        "                    epochs=15,\n",
        "                    batch_size=512,\n",
        "                    validation_data=(x_val, y_val))"
      ],
      "execution_count": 0,
      "outputs": [
        {
          "output_type": "stream",
          "text": [
            "Train on 15000 samples, validate on 10000 samples\n",
            "Epoch 1/15\n",
            "15000/15000 [==============================] - 2s 139us/step - loss: 0.4862 - acc: 0.7837 - val_loss: 0.3576 - val_acc: 0.8607\n",
            "Epoch 2/15\n",
            "15000/15000 [==============================] - 2s 139us/step - loss: 0.2761 - acc: 0.9055 - val_loss: 0.2913 - val_acc: 0.8862\n",
            "Epoch 3/15\n",
            "15000/15000 [==============================] - 2s 137us/step - loss: 0.1986 - acc: 0.9315 - val_loss: 0.3148 - val_acc: 0.8741\n",
            "Epoch 4/15\n",
            "15000/15000 [==============================] - 2s 138us/step - loss: 0.1560 - acc: 0.9470 - val_loss: 0.2776 - val_acc: 0.8894\n",
            "Epoch 5/15\n",
            "15000/15000 [==============================] - 2s 139us/step - loss: 0.1234 - acc: 0.9588 - val_loss: 0.2954 - val_acc: 0.8852\n",
            "Epoch 6/15\n",
            "15000/15000 [==============================] - 2s 137us/step - loss: 0.0972 - acc: 0.9687 - val_loss: 0.3291 - val_acc: 0.8823\n",
            "Epoch 7/15\n",
            "15000/15000 [==============================] - 2s 134us/step - loss: 0.0760 - acc: 0.9775 - val_loss: 0.3520 - val_acc: 0.8812\n"
          ],
          "name": "stdout"
        },
        {
          "output_type": "stream",
          "text": [
            "Epoch 8/15\n",
            "15000/15000 [==============================] - 2s 136us/step - loss: 0.0568 - acc: 0.9843 - val_loss: 0.3750 - val_acc: 0.8801\n",
            "Epoch 9/15\n",
            "15000/15000 [==============================] - 2s 139us/step - loss: 0.0427 - acc: 0.9887 - val_loss: 0.4044 - val_acc: 0.8765\n",
            "Epoch 10/15\n",
            "15000/15000 [==============================] - 2s 139us/step - loss: 0.0353 - acc: 0.9911 - val_loss: 0.4421 - val_acc: 0.8779\n",
            "Epoch 11/15\n",
            "15000/15000 [==============================] - 2s 139us/step - loss: 0.0329 - acc: 0.9903 - val_loss: 0.4692 - val_acc: 0.8772\n",
            "Epoch 12/15\n",
            "15000/15000 [==============================] - 2s 140us/step - loss: 0.0128 - acc: 0.9988 - val_loss: 0.5077 - val_acc: 0.8750\n",
            "Epoch 13/15\n",
            "15000/15000 [==============================] - 2s 141us/step - loss: 0.0181 - acc: 0.9953 - val_loss: 0.5388 - val_acc: 0.8719\n",
            "Epoch 14/15\n",
            "13824/15000 [==========================>...] - ETA: 0s - loss: 0.0059 - acc: 0.9998"
          ],
          "name": "stdout"
        },
        {
          "output_type": "stream",
          "text": [
            "15000/15000 [==============================] - 2s 139us/step - loss: 0.0061 - acc: 0.9997 - val_loss: 0.7652 - val_acc: 0.8472\n",
            "Epoch 15/15\n",
            "15000/15000 [==============================] - 2s 138us/step - loss: 0.0119 - acc: 0.9971 - val_loss: 0.5987 - val_acc: 0.8703\n"
          ],
          "name": "stdout"
        }
      ]
    },
    {
      "metadata": {
        "id": "0pcQigpalQ7q",
        "colab_type": "code",
        "outputId": "fd0ae7d4-e671-4c96-cf58-1a2899febc02",
        "colab": {
          "base_uri": "https://localhost:8080/",
          "height": 34
        }
      },
      "cell_type": "code",
      "source": [
        "history_dict = history.history\n",
        "history_dict.keys()"
      ],
      "execution_count": 0,
      "outputs": [
        {
          "output_type": "execute_result",
          "data": {
            "text/plain": [
              "dict_keys(['val_loss', 'val_acc', 'loss', 'acc'])"
            ]
          },
          "metadata": {
            "tags": []
          },
          "execution_count": 23
        }
      ]
    },
    {
      "metadata": {
        "id": "TUI95zCJlVp_",
        "colab_type": "code",
        "outputId": "3c9faa67-e73a-41f6-efaf-3d00ce735c5a",
        "colab": {
          "base_uri": "https://localhost:8080/",
          "height": 376
        }
      },
      "cell_type": "code",
      "source": [
        "import matplotlib.pyplot as plt\n",
        "\n",
        "train_loss_values = history_dict['loss']\n",
        "val_loss_values = history_dict['val_loss']\n",
        "\n",
        "epochs = range(1, len(history_dict['acc']) + 1)\n",
        "\n",
        "plt.plot(epochs, train_loss_values, 'bo', label='Training loss')\n",
        "plt.plot(epochs, val_loss_values, 'b', label='Validation loss')\n",
        "plt.title('Training and validation loss')\n",
        "plt.xlabel('Epochs')\n",
        "plt.ylabel('Loss')\n",
        "plt.legend()\n",
        "plt.show()"
      ],
      "execution_count": 0,
      "outputs": [
        {
          "output_type": "display_data",
          "data": {
            "image/png": "[encoded data removed]",
            "text/plain": [
              "<matplotlib.figure.Figure at 0x7f382fde94a8>"
            ]
          },
          "metadata": {
            "tags": []
          }
        }
      ]
    },
    {
      "metadata": {
        "id": "QOl22ln2lZSc",
        "colab_type": "code",
        "outputId": "1289cf2f-d8ac-4372-9c8b-80a033257efd",
        "colab": {
          "base_uri": "https://localhost:8080/",
          "height": 376
        }
      },
      "cell_type": "code",
      "source": [
        "train_acc = history_dict['acc']\n",
        "val_acc = history_dict['val_acc']\n",
        "plt.plot(epochs, train_acc, 'bo', label='Training acc')\n",
        "plt.plot(epochs, val_acc, 'b', label='Validation acc')\n",
        "plt.title('Training and validation accuracy')\n",
        "plt.xlabel('Epochs')\n",
        "plt.ylabel('Loss')\n",
        "plt.legend()\n",
        "plt.show()"
      ],
      "execution_count": 0,
      "outputs": [
        {
          "output_type": "display_data",
          "data": {
            "image/png": "[encoded data removed]",
            "text/plain": [
              "<matplotlib.figure.Figure at 0x7f382fd882e8>"
            ]
          },
          "metadata": {
            "tags": []
          }
        }
      ]
    },
    {
      "metadata": {
        "id": "F_oie9LPljoq",
        "colab_type": "code",
        "outputId": "c88dab4e-14a8-4dfe-c31c-fbba48d2b7b7",
        "colab": {
          "base_uri": "https://localhost:8080/",
          "height": 170
        }
      },
      "cell_type": "code",
      "source": [
        "model = models.Sequential()\n",
        "model.add(layers.Dense(32, activation='relu', input_shape=(10000,)))#1 hidden layer\n",
        "model.add(layers.Dense(32, activation='relu'))#2 hidden layer\n",
        "model.add(layers.Dense(1, activation='sigmoid'))\n",
        "\n",
        "model.compile(optimizer='rmsprop', loss='binary_crossentropy', metrics=['accuracy'])\n",
        "\n",
        "model.fit(x_train, y_train, epochs=4, batch_size=512)\n",
        "results = model.evaluate(x_test, y_test)"
      ],
      "execution_count": 0,
      "outputs": [
        {
          "output_type": "stream",
          "text": [
            "Epoch 1/4\n",
            "25000/25000 [==============================] - 2s 94us/step - loss: 0.4381 - acc: 0.8153\n",
            "Epoch 2/4\n",
            "25000/25000 [==============================] - 3s 104us/step - loss: 0.2456 - acc: 0.9098\n",
            "Epoch 3/4\n",
            "25000/25000 [==============================] - 3s 104us/step - loss: 0.1908 - acc: 0.9299\n",
            "Epoch 4/4\n",
            "25000/25000 [==============================] - 3s 103us/step - loss: 0.1628 - acc: 0.9396\n",
            "25000/25000 [==============================] - 2s 96us/step\n"
          ],
          "name": "stdout"
        }
      ]
    },
    {
      "metadata": {
        "id": "5O5EeI6llzjZ",
        "colab_type": "code",
        "outputId": "55c0a174-ae55-4e1b-dc57-751b6d21e0d8",
        "colab": {
          "base_uri": "https://localhost:8080/",
          "height": 34
        }
      },
      "cell_type": "code",
      "source": [
        "results"
      ],
      "execution_count": 0,
      "outputs": [
        {
          "output_type": "execute_result",
          "data": {
            "text/plain": [
              "[0.3430902758026123, 0.868]"
            ]
          },
          "metadata": {
            "tags": []
          },
          "execution_count": 27
        }
      ]
    },
    {
      "metadata": {
        "id": "u97mMKRIl9lQ",
        "colab_type": "text"
      },
      "cell_type": "markdown",
      "source": [
        "Thus we get 86.8% accuracy with a fairly naive approach"
      ]
    },
    {
      "metadata": {
        "id": "-weJBQ5Ll3Wh",
        "colab_type": "code",
        "outputId": "3508da94-ce51-4c3e-bfcc-f802d902e293",
        "colab": {
          "base_uri": "https://localhost:8080/",
          "height": 136
        }
      },
      "cell_type": "code",
      "source": [
        "model.predict(x_test)"
      ],
      "execution_count": 0,
      "outputs": [
        {
          "output_type": "execute_result",
          "data": {
            "text/plain": [
              "array([[0.10854351],\n",
              "       [0.999962  ],\n",
              "       [0.39847773],\n",
              "       ...,\n",
              "       [0.07631421],\n",
              "       [0.04508728],\n",
              "       [0.4307484 ]], dtype=float32)"
            ]
          },
          "metadata": {
            "tags": []
          },
          "execution_count": 28
        }
      ]
    },
    {
      "metadata": {
        "id": "0jF7cnx5mWIB",
        "colab_type": "text"
      },
      "cell_type": "markdown",
      "source": [
        "## **4) Trying the same above architecture and replace relu activation by tanh activation in both the hidden layers**"
      ]
    },
    {
      "metadata": {
        "id": "Zxhp1UNcmDuE",
        "colab_type": "code",
        "colab": {}
      },
      "cell_type": "code",
      "source": [
        "model = models.Sequential()\n",
        "model.add(layers.Dense(16, activation='tanh', input_shape=(10000,)))\n",
        "model.add(layers.Dense(16, activation='tanh'))\n",
        "model.add(layers.Dense(1, activation='sigmoid'))"
      ],
      "execution_count": 0,
      "outputs": []
    },
    {
      "metadata": {
        "id": "Ncs4SwcLmyR4",
        "colab_type": "code",
        "colab": {}
      },
      "cell_type": "code",
      "source": [
        "model.compile(optimizer='rmsprop', loss='binary_crossentropy', metrics=['accuracy'])"
      ],
      "execution_count": 0,
      "outputs": []
    },
    {
      "metadata": {
        "id": "GhrXtATenOP_",
        "colab_type": "code",
        "colab": {}
      },
      "cell_type": "code",
      "source": [
        "# create a validation set by setting apart 10,000 samples from the original training data.\n",
        "x_val = x_train[:10000]\n",
        "partial_x_train = x_train[10000:]\n",
        "\n",
        "y_val = y_train[:10000]\n",
        "partial_y_train = y_train[10000:]"
      ],
      "execution_count": 0,
      "outputs": []
    },
    {
      "metadata": {
        "id": "tdCwbbohneQG",
        "colab_type": "code",
        "outputId": "034e92f0-f701-44bf-8809-e9fec6de3221",
        "colab": {
          "base_uri": "https://localhost:8080/",
          "height": 734
        }
      },
      "cell_type": "code",
      "source": [
        "history = model.fit(partial_x_train,\n",
        "                    partial_y_train,\n",
        "                    epochs=20,\n",
        "                    batch_size=512,\n",
        "                    validation_data=(x_val, y_val))"
      ],
      "execution_count": 0,
      "outputs": [
        {
          "output_type": "stream",
          "text": [
            "Train on 15000 samples, validate on 10000 samples\n",
            "Epoch 1/20\n",
            "15000/15000 [==============================] - 3s 168us/step - loss: 0.4769 - acc: 0.7962 - val_loss: 0.3531 - val_acc: 0.8744\n",
            "Epoch 2/20\n",
            "15000/15000 [==============================] - 2s 129us/step - loss: 0.2748 - acc: 0.9091 - val_loss: 0.2842 - val_acc: 0.8891\n",
            "Epoch 3/20\n",
            "15000/15000 [==============================] - 2s 123us/step - loss: 0.1918 - acc: 0.9362 - val_loss: 0.2976 - val_acc: 0.8784\n",
            "Epoch 4/20\n",
            "15000/15000 [==============================] - 2s 122us/step - loss: 0.1480 - acc: 0.9504 - val_loss: 0.2872 - val_acc: 0.8853\n",
            "Epoch 5/20\n",
            "15000/15000 [==============================] - 2s 124us/step - loss: 0.1134 - acc: 0.9627 - val_loss: 0.3119 - val_acc: 0.8811\n",
            "Epoch 6/20\n",
            "15000/15000 [==============================] - 2s 124us/step - loss: 0.0873 - acc: 0.9708 - val_loss: 0.3948 - val_acc: 0.8657\n",
            "Epoch 7/20\n",
            "15000/15000 [==============================] - 2s 121us/step - loss: 0.0706 - acc: 0.9763 - val_loss: 0.3817 - val_acc: 0.8766\n",
            "Epoch 8/20\n",
            "15000/15000 [==============================] - 2s 126us/step - loss: 0.0561 - acc: 0.9823 - val_loss: 0.4294 - val_acc: 0.8709\n",
            "Epoch 9/20\n",
            " 9216/15000 [=================>............] - ETA: 0s - loss: 0.0286 - acc: 0.9939"
          ],
          "name": "stdout"
        },
        {
          "output_type": "stream",
          "text": [
            "15000/15000 [==============================] - 2s 123us/step - loss: 0.0386 - acc: 0.9890 - val_loss: 0.4907 - val_acc: 0.8636\n",
            "Epoch 10/20\n",
            "15000/15000 [==============================] - 2s 122us/step - loss: 0.0338 - acc: 0.9901 - val_loss: 0.5111 - val_acc: 0.8733\n",
            "Epoch 11/20\n",
            "15000/15000 [==============================] - 2s 122us/step - loss: 0.0279 - acc: 0.9918 - val_loss: 0.5473 - val_acc: 0.8715\n",
            "Epoch 12/20\n",
            "15000/15000 [==============================] - 2s 123us/step - loss: 0.0111 - acc: 0.9984 - val_loss: 0.6368 - val_acc: 0.8552\n",
            "Epoch 13/20\n",
            "15000/15000 [==============================] - 2s 122us/step - loss: 0.0217 - acc: 0.9936 - val_loss: 0.6260 - val_acc: 0.8670\n",
            "Epoch 14/20\n",
            "15000/15000 [==============================] - 2s 124us/step - loss: 0.0180 - acc: 0.9951 - val_loss: 0.6928 - val_acc: 0.8636\n",
            "Epoch 15/20\n",
            "15000/15000 [==============================] - 2s 123us/step - loss: 0.0037 - acc: 0.9998 - val_loss: 0.6893 - val_acc: 0.8642\n",
            "Epoch 16/20\n",
            "15000/15000 [==============================] - 2s 122us/step - loss: 0.0024 - acc: 0.9998 - val_loss: 0.7434 - val_acc: 0.8625\n",
            "Epoch 17/20\n",
            "15000/15000 [==============================] - 2s 121us/step - loss: 0.0187 - acc: 0.9943 - val_loss: 0.7716 - val_acc: 0.8614\n",
            "Epoch 18/20\n",
            " 4096/15000 [=======>......................] - ETA: 0s - loss: 8.0771e-04 - acc: 1.0000"
          ],
          "name": "stdout"
        },
        {
          "output_type": "stream",
          "text": [
            "15000/15000 [==============================] - 2s 122us/step - loss: 0.0011 - acc: 0.9999 - val_loss: 0.7931 - val_acc: 0.8584\n",
            "Epoch 19/20\n",
            "15000/15000 [==============================] - 2s 122us/step - loss: 6.1314e-04 - acc: 1.0000 - val_loss: 0.8820 - val_acc: 0.8526\n",
            "Epoch 20/20\n",
            "15000/15000 [==============================] - 2s 122us/step - loss: 0.0225 - acc: 0.9944 - val_loss: 0.8747 - val_acc: 0.8610\n"
          ],
          "name": "stdout"
        }
      ]
    },
    {
      "metadata": {
        "id": "MNfnmaytng2e",
        "colab_type": "code",
        "outputId": "42495d8d-bb18-46b7-923e-cb574477e63c",
        "colab": {
          "base_uri": "https://localhost:8080/",
          "height": 34
        }
      },
      "cell_type": "code",
      "source": [
        "history_dict = history.history\n",
        "history_dict.keys()"
      ],
      "execution_count": 0,
      "outputs": [
        {
          "output_type": "execute_result",
          "data": {
            "text/plain": [
              "dict_keys(['val_loss', 'val_acc', 'loss', 'acc'])"
            ]
          },
          "metadata": {
            "tags": []
          },
          "execution_count": 13
        }
      ]
    },
    {
      "metadata": {
        "id": "UoHAkOA1nkP0",
        "colab_type": "code",
        "outputId": "1b159604-f792-4308-9081-093ecf063e2f",
        "colab": {
          "base_uri": "https://localhost:8080/",
          "height": 376
        }
      },
      "cell_type": "code",
      "source": [
        "import matplotlib.pyplot as plt\n",
        "\n",
        "train_loss_values = history_dict['loss']\n",
        "val_loss_values = history_dict['val_loss']\n",
        "\n",
        "epochs = range(1, len(history_dict['acc']) + 1)\n",
        "\n",
        "plt.plot(epochs, train_loss_values, 'bo', label='Training loss')\n",
        "plt.plot(epochs, val_loss_values, 'b', label='Validation loss')\n",
        "plt.title('Training and validation loss')\n",
        "plt.xlabel('Epochs')\n",
        "plt.ylabel('Loss')\n",
        "plt.legend()\n",
        "plt.show()"
      ],
      "execution_count": 0,
      "outputs": [
        {
          "output_type": "display_data",
          "data": {
            "image/png": "[encoded data removed]",
            "text/plain": [
              "<matplotlib.figure.Figure at 0x7fb560d25898>"
            ]
          },
          "metadata": {
            "tags": []
          }
        }
      ]
    },
    {
      "metadata": {
        "id": "7eISw42AnpIN",
        "colab_type": "code",
        "outputId": "0a59839e-a6af-43d0-df3c-9c0ab6310b91",
        "colab": {
          "base_uri": "https://localhost:8080/",
          "height": 376
        }
      },
      "cell_type": "code",
      "source": [
        "train_acc = history_dict['acc']\n",
        "val_acc = history_dict['val_acc']\n",
        "plt.plot(epochs, train_acc, 'bo', label='Training acc')\n",
        "plt.plot(epochs, val_acc, 'b', label='Validation acc')\n",
        "plt.title('Training and validation accuracy')\n",
        "plt.xlabel('Epochs')\n",
        "plt.ylabel('Loss')\n",
        "plt.legend()\n",
        "plt.show()"
      ],
      "execution_count": 0,
      "outputs": [
        {
          "output_type": "display_data",
          "data": {
            "image/png": "[encoded data removed]",
            "text/plain": [
              "<matplotlib.figure.Figure at 0x7fb560d25668>"
            ]
          },
          "metadata": {
            "tags": []
          }
        }
      ]
    },
    {
      "metadata": {
        "id": "cyoLU6fKn3yN",
        "colab_type": "code",
        "outputId": "de250119-aa28-40d1-bf0e-23e35a270c4b",
        "colab": {
          "base_uri": "https://localhost:8080/",
          "height": 102
        }
      },
      "cell_type": "code",
      "source": [
        "model = models.Sequential()\n",
        "model.add(layers.Dense(16, activation='tanh', input_shape=(10000,)))\n",
        "model.add(layers.Dense(16, activation='tanh'))\n",
        "model.add(layers.Dense(1, activation='sigmoid'))\n",
        "\n",
        "model.compile(optimizer='rmsprop', loss='binary_crossentropy', metrics=['accuracy'])\n",
        "\n",
        "model.fit(x_train, y_train, epochs=2, batch_size=512)\n",
        "results = model.evaluate(x_test, y_test)"
      ],
      "execution_count": 0,
      "outputs": [
        {
          "output_type": "stream",
          "text": [
            "Epoch 1/2\n",
            "25000/25000 [==============================] - 3s 105us/step - loss: 0.4248 - acc: 0.8301\n",
            "Epoch 2/2\n",
            "25000/25000 [==============================] - 2s 92us/step - loss: 0.2365 - acc: 0.9169\n",
            "25000/25000 [==============================] - 2s 78us/step\n"
          ],
          "name": "stdout"
        }
      ]
    },
    {
      "metadata": {
        "id": "c5_hvPdhoCgo",
        "colab_type": "code",
        "outputId": "8126eb04-ac86-43af-ba30-f865c60b04a4",
        "colab": {
          "base_uri": "https://localhost:8080/",
          "height": 34
        }
      },
      "cell_type": "code",
      "source": [
        "results"
      ],
      "execution_count": 0,
      "outputs": [
        {
          "output_type": "execute_result",
          "data": {
            "text/plain": [
              "[0.2776307820415497, 0.88808]"
            ]
          },
          "metadata": {
            "tags": []
          },
          "execution_count": 17
        }
      ]
    },
    {
      "metadata": {
        "id": "ZIS8sIi7oG6P",
        "colab_type": "code",
        "outputId": "8e651d88-22d9-4525-9783-0844a655f4af",
        "colab": {
          "base_uri": "https://localhost:8080/",
          "height": 136
        }
      },
      "cell_type": "code",
      "source": [
        "model.predict(x_test)"
      ],
      "execution_count": 0,
      "outputs": [
        {
          "output_type": "execute_result",
          "data": {
            "text/plain": [
              "array([[0.22858872],\n",
              "       [0.99043536],\n",
              "       [0.801407  ],\n",
              "       ...,\n",
              "       [0.09745014],\n",
              "       [0.13444334],\n",
              "       [0.59008265]], dtype=float32)"
            ]
          },
          "metadata": {
            "tags": []
          },
          "execution_count": 18
        }
      ]
    }
  ]
}