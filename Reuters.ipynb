{
  "nbformat": 4,
  "nbformat_minor": 0,
  "metadata": {
    "colab": {
      "name": "Reuters.ipynb",
      "version": "0.3.2",
      "provenance": []
    }
  },
  "cells": [
    {
      "metadata": {
        "id": "x4uE7qFSUVM2",
        "colab_type": "text"
      },
      "cell_type": "markdown",
      "source": [
        "# The Reuters dataset\n",
        "**a multiclass classification example**\n",
        "\n",
        "You’ll work with the Reuters dataset, a set of short newswires and their topics, published\n",
        "by Reuters in 1986. It’s a simple, widely used toy dataset for text classification. There\n",
        "are 46 different topics; some topics are more represented than others, but each topic\n",
        "has at least 10 examples in the training set.\n",
        "\n",
        "Like IMDB and MNIST, the Reuters dataset comes packaged as part of Keras. Let’s\n",
        "take a look."
      ]
    },
    {
      "metadata": {
        "id": "GR9DaDbVU8pi",
        "colab_type": "text"
      },
      "cell_type": "markdown",
      "source": [
        "### 3.12 Loading the Reuters dataset"
      ]
    },
    {
      "metadata": {
        "id": "EvL5grtDTmKW",
        "colab_type": "code",
        "outputId": "4e9b5b9a-5a98-4cd8-896e-426545306ea1",
        "colab": {
          "base_uri": "https://localhost:8080/",
          "height": 85
        }
      },
      "cell_type": "code",
      "source": [
        "from keras.datasets import reuters\n",
        "\n",
        "(train_data,train_labels),(test_data,test_labels)=reuters.load_data(num_words=10000)#making the dataset of 10,000 most frequently occurring words"
      ],
      "execution_count": 0,
      "outputs": [
        {
          "output_type": "stream",
          "text": [
            "Using TensorFlow backend.\n"
          ],
          "name": "stderr"
        },
        {
          "output_type": "stream",
          "text": [
            "Downloading data from https://s3.amazonaws.com/text-datasets/reuters.npz\n",
            "2113536/2110848 [==============================] - 0s 0us/step\n",
            "2121728/2110848 [==============================] - 0s 0us/step\n"
          ],
          "name": "stdout"
        }
      ]
    },
    {
      "metadata": {
        "id": "16tIe0ObVo4S",
        "colab_type": "code",
        "outputId": "bae21211-87e1-4b25-ccff-5357632fe451",
        "colab": {
          "base_uri": "https://localhost:8080/",
          "height": 34
        }
      },
      "cell_type": "code",
      "source": [
        "len(train_data)"
      ],
      "execution_count": 0,
      "outputs": [
        {
          "output_type": "execute_result",
          "data": {
            "text/plain": [
              "8982"
            ]
          },
          "metadata": {
            "tags": []
          },
          "execution_count": 4
        }
      ]
    },
    {
      "metadata": {
        "id": "ZGQCRzJNVvZj",
        "colab_type": "code",
        "outputId": "6124034d-2383-4d64-e133-14995f9a005f",
        "colab": {
          "base_uri": "https://localhost:8080/",
          "height": 34
        }
      },
      "cell_type": "code",
      "source": [
        "len(test_data)"
      ],
      "execution_count": 0,
      "outputs": [
        {
          "output_type": "execute_result",
          "data": {
            "text/plain": [
              "2246"
            ]
          },
          "metadata": {
            "tags": []
          },
          "execution_count": 3
        }
      ]
    },
    {
      "metadata": {
        "id": "q3YJSfnDVxk6",
        "colab_type": "code",
        "outputId": "e2c9f05e-67d0-4b6c-f73a-77f4ad5d03a8",
        "colab": {
          "base_uri": "https://localhost:8080/",
          "height": 54
        }
      },
      "cell_type": "code",
      "source": [
        "print(train_data[0])# first review"
      ],
      "execution_count": 0,
      "outputs": [
        {
          "output_type": "stream",
          "text": [
            "[1, 2, 2, 8, 43, 10, 447, 5, 25, 207, 270, 5, 3095, 111, 16, 369, 186, 90, 67, 7, 89, 5, 19, 102, 6, 19, 124, 15, 90, 67, 84, 22, 482, 26, 7, 48, 4, 49, 8, 864, 39, 209, 154, 6, 151, 6, 83, 11, 15, 22, 155, 11, 15, 7, 48, 9, 4579, 1005, 504, 6, 258, 6, 272, 11, 15, 22, 134, 44, 11, 15, 16, 8, 197, 1245, 90, 67, 52, 29, 209, 30, 32, 132, 6, 109, 15, 17, 12]\n"
          ],
          "name": "stdout"
        }
      ]
    },
    {
      "metadata": {
        "id": "70B6t09MYP-e",
        "colab_type": "text"
      },
      "cell_type": "markdown",
      "source": [
        "### 3.13Decoding newswires back to text"
      ]
    },
    {
      "metadata": {
        "id": "J3oWp06qYJs1",
        "colab_type": "code",
        "outputId": "4043129b-ddea-4769-8a3f-29ff56e0e0e6",
        "colab": {
          "base_uri": "https://localhost:8080/",
          "height": 68
        }
      },
      "cell_type": "code",
      "source": [
        "word_index = reuters.get_word_index()\n",
        "reverse_word_index = dict([(value, key) for (key, value) in word_index.items()])\n",
        "decoded_newswire = ' '.join([reverse_word_index.get(i - 3, '?') for i in train_data[0]])# decoding the first row back to text"
      ],
      "execution_count": 0,
      "outputs": [
        {
          "output_type": "stream",
          "text": [
            "Downloading data from https://s3.amazonaws.com/text-datasets/reuters_word_index.json\n",
            "557056/550378 [==============================] - 0s 0us/step\n",
            "565248/550378 [==============================] - 0s 0us/step\n"
          ],
          "name": "stdout"
        }
      ]
    },
    {
      "metadata": {
        "id": "CqJSOmYmYbYF",
        "colab_type": "code",
        "outputId": "31b0bce0-3903-45b9-dbcc-bf7b38711cde",
        "colab": {
          "base_uri": "https://localhost:8080/",
          "height": 34
        }
      },
      "cell_type": "code",
      "source": [
        "train_labels[10]"
      ],
      "execution_count": 0,
      "outputs": [
        {
          "output_type": "execute_result",
          "data": {
            "text/plain": [
              "3"
            ]
          },
          "metadata": {
            "tags": []
          },
          "execution_count": 8
        }
      ]
    },
    {
      "metadata": {
        "id": "VSVIs44QZuEs",
        "colab_type": "code",
        "outputId": "0c4adb5e-055c-401e-b57a-49f093b071b7",
        "colab": {
          "base_uri": "https://localhost:8080/",
          "height": 54
        }
      },
      "cell_type": "code",
      "source": [
        "decoded_newswire"
      ],
      "execution_count": 0,
      "outputs": [
        {
          "output_type": "execute_result",
          "data": {
            "text/plain": [
              "u'? ? ? said as a result of its december acquisition of space co it expects earnings per share in 1987 of 1 15 to 1 30 dlrs per share up from 70 cts in 1986 the company said pretax net should rise to nine to 10 mln dlrs from six mln dlrs in 1986 and rental operation revenues to 19 to 22 mln dlrs from 12 5 mln dlrs it said cash flow per share this year should be 2 50 to three dlrs reuter 3'"
            ]
          },
          "metadata": {
            "tags": []
          },
          "execution_count": 13
        }
      ]
    },
    {
      "metadata": {
        "id": "dLwPRYnYYkdz",
        "colab_type": "text"
      },
      "cell_type": "markdown",
      "source": [
        "##3.2  Preparing the data"
      ]
    },
    {
      "metadata": {
        "id": "cxNk4t_KYoFz",
        "colab_type": "text"
      },
      "cell_type": "markdown",
      "source": [
        "### 3.2.1 Encoding the data"
      ]
    },
    {
      "metadata": {
        "id": "SKRhnAOLYe6G",
        "colab_type": "code",
        "colab": {}
      },
      "cell_type": "code",
      "source": [
        "import numpy as np"
      ],
      "execution_count": 0,
      "outputs": []
    },
    {
      "metadata": {
        "id": "0-FMP-tPYvbF",
        "colab_type": "code",
        "colab": {}
      },
      "cell_type": "code",
      "source": [
        "def vectorize_sequences(sequences, dimension=10000):\n",
        "  results = np.zeros((len(sequences), dimension))\n",
        "  for i, sequence in enumerate(sequences):\n",
        "    results[i, sequence] = 1.\n",
        "  return results"
      ],
      "execution_count": 0,
      "outputs": []
    },
    {
      "metadata": {
        "id": "rI2jtTsAYxQ1",
        "colab_type": "code",
        "colab": {}
      },
      "cell_type": "code",
      "source": [
        "x_train = vectorize_sequences(train_data)#Vectorizer train data\n",
        "x_test = vectorize_sequences(test_data)#vectorizer test data"
      ],
      "execution_count": 0,
      "outputs": []
    },
    {
      "metadata": {
        "id": "5IdUoAyCcHR_",
        "colab_type": "code",
        "colab": {}
      },
      "cell_type": "code",
      "source": [
        "from keras.utils.np_utils import to_categorical"
      ],
      "execution_count": 0,
      "outputs": []
    },
    {
      "metadata": {
        "id": "EOU68eDdcL4V",
        "colab_type": "code",
        "colab": {}
      },
      "cell_type": "code",
      "source": [
        "## Vectorize train and test labels using built-in keras function\n",
        "one_hot_train_labels = to_categorical(train_labels)\n",
        "one_hot_test_labels = to_categorical(test_labels)"
      ],
      "execution_count": 0,
      "outputs": []
    },
    {
      "metadata": {
        "id": "fjp1LiOeaJLZ",
        "colab_type": "text"
      },
      "cell_type": "markdown",
      "source": [
        "### 3.2.3 Building your network"
      ]
    },
    {
      "metadata": {
        "id": "TMlIGdW5Y-YE",
        "colab_type": "code",
        "colab": {}
      },
      "cell_type": "code",
      "source": [
        "from keras import layers,models"
      ],
      "execution_count": 0,
      "outputs": []
    },
    {
      "metadata": {
        "id": "eYzqccqOaOBC",
        "colab_type": "code",
        "colab": {}
      },
      "cell_type": "code",
      "source": [
        "model = models.Sequential()\n",
        "\n",
        "# Hidden layer 1\n",
        "model.add(layers.Dense(64, activation='relu', input_shape=(10000,)))\n",
        "\n",
        "# hidden layer 2\n",
        "model.add(layers.Dense(64, activation='relu'))\n",
        "\n",
        "# ooutput layer\n",
        "model.add(layers.Dense(46, activation='softmax'))"
      ],
      "execution_count": 0,
      "outputs": []
    },
    {
      "metadata": {
        "id": "LdLTXWR1a8rA",
        "colab_type": "code",
        "colab": {}
      },
      "cell_type": "code",
      "source": [
        "model.compile(optimizer='rmsprop',\n",
        "loss='categorical_crossentropy',\n",
        "metrics=['accuracy'])"
      ],
      "execution_count": 0,
      "outputs": []
    },
    {
      "metadata": {
        "id": "XY8-T1VtbQ3_",
        "colab_type": "text"
      },
      "cell_type": "markdown",
      "source": [
        "## 3.3 Validating your approach\n",
        "\n",
        "Let’s set apart 1,000 samples in the training data to use as a validation set"
      ]
    },
    {
      "metadata": {
        "id": "keO4x9k3bSbG",
        "colab_type": "text"
      },
      "cell_type": "markdown",
      "source": [
        "###3.3.1  Setting aside a validation set"
      ]
    },
    {
      "metadata": {
        "id": "kjbJS4scbLHZ",
        "colab_type": "code",
        "colab": {}
      },
      "cell_type": "code",
      "source": [
        "x_val = x_train[:1000]\n",
        "partial_x_train = x_train[1000:]\n",
        "\n",
        "y_val = one_hot_train_labels[:1000]\n",
        "partial_y_train = one_hot_train_labels[1000:]"
      ],
      "execution_count": 0,
      "outputs": []
    },
    {
      "metadata": {
        "id": "ivLVyCCoci7E",
        "colab_type": "text"
      },
      "cell_type": "markdown",
      "source": [
        "### 3.3.2 Training the model"
      ]
    },
    {
      "metadata": {
        "id": "aQjhp052bicA",
        "colab_type": "code",
        "outputId": "bd05eeb6-9006-456f-d4e0-3d3fcd1b1fdc",
        "colab": {
          "base_uri": "https://localhost:8080/",
          "height": 734
        }
      },
      "cell_type": "code",
      "source": [
        "history = model.fit(partial_x_train,partial_y_train,epochs=20,batch_size=512,validation_data=(x_val, y_val))#traing for 20 epochs"
      ],
      "execution_count": 0,
      "outputs": [
        {
          "output_type": "stream",
          "text": [
            "Train on 7982 samples, validate on 1000 samples\n",
            "Epoch 1/20\n",
            "7982/7982 [==============================] - 2s 203us/step - loss: 2.4969 - acc: 0.4904 - val_loss: 1.6813 - val_acc: 0.6510\n",
            "Epoch 2/20\n",
            "7982/7982 [==============================] - 1s 150us/step - loss: 1.3915 - acc: 0.7038 - val_loss: 1.2790 - val_acc: 0.7180\n",
            "Epoch 3/20\n",
            "7982/7982 [==============================] - 1s 147us/step - loss: 1.0476 - acc: 0.7707 - val_loss: 1.1178 - val_acc: 0.7610\n",
            "Epoch 4/20\n",
            "7982/7982 [==============================] - 1s 151us/step - loss: 0.8235 - acc: 0.8282 - val_loss: 1.0226 - val_acc: 0.7780\n",
            "Epoch 5/20\n",
            "7982/7982 [==============================] - 1s 148us/step - loss: 0.6591 - acc: 0.8637 - val_loss: 0.9719 - val_acc: 0.7950\n",
            "Epoch 6/20\n",
            "7982/7982 [==============================] - 1s 150us/step - loss: 0.5251 - acc: 0.8929 - val_loss: 0.9201 - val_acc: 0.8120\n",
            "Epoch 7/20\n",
            "7982/7982 [==============================] - 1s 146us/step - loss: 0.4295 - acc: 0.9108 - val_loss: 0.9136 - val_acc: 0.8010\n",
            "Epoch 8/20\n",
            "7982/7982 [==============================] - 1s 148us/step - loss: 0.3508 - acc: 0.9271 - val_loss: 0.8950 - val_acc: 0.8160\n",
            "Epoch 9/20\n",
            "5632/7982 [====================>.........] - ETA: 0s - loss: 0.2900 - acc: 0.9377"
          ],
          "name": "stdout"
        },
        {
          "output_type": "stream",
          "text": [
            "7982/7982 [==============================] - 1s 146us/step - loss: 0.2908 - acc: 0.9384 - val_loss: 0.9138 - val_acc: 0.8080\n",
            "Epoch 10/20\n",
            "7982/7982 [==============================] - 1s 148us/step - loss: 0.2463 - acc: 0.9448 - val_loss: 0.9143 - val_acc: 0.8130\n",
            "Epoch 11/20\n",
            "7982/7982 [==============================] - 1s 149us/step - loss: 0.2121 - acc: 0.9485 - val_loss: 0.9514 - val_acc: 0.8100\n",
            "Epoch 12/20\n",
            "7982/7982 [==============================] - 1s 148us/step - loss: 0.1892 - acc: 0.9526 - val_loss: 0.9604 - val_acc: 0.8060\n",
            "Epoch 13/20\n",
            "7982/7982 [==============================] - 1s 151us/step - loss: 0.1668 - acc: 0.9525 - val_loss: 0.9977 - val_acc: 0.7950\n",
            "Epoch 14/20\n",
            "7982/7982 [==============================] - 1s 149us/step - loss: 0.1546 - acc: 0.9541 - val_loss: 0.9801 - val_acc: 0.8050\n",
            "Epoch 15/20\n",
            "7982/7982 [==============================] - 1s 150us/step - loss: 0.1469 - acc: 0.9546 - val_loss: 1.0238 - val_acc: 0.7980\n",
            "Epoch 16/20\n",
            "7982/7982 [==============================] - 1s 146us/step - loss: 0.1344 - acc: 0.9554 - val_loss: 1.0456 - val_acc: 0.7970\n",
            "Epoch 17/20\n",
            "7982/7982 [==============================] - 1s 149us/step - loss: 0.1272 - acc: 0.9553 - val_loss: 1.0493 - val_acc: 0.7960\n",
            "Epoch 18/20\n",
            " 512/7982 [>.............................] - ETA: 1s - loss: 0.1368 - acc: 0.9648"
          ],
          "name": "stdout"
        },
        {
          "output_type": "stream",
          "text": [
            "7982/7982 [==============================] - 1s 151us/step - loss: 0.1181 - acc: 0.9563 - val_loss: 1.0456 - val_acc: 0.8140\n",
            "Epoch 19/20\n",
            "7982/7982 [==============================] - 1s 149us/step - loss: 0.1176 - acc: 0.9569 - val_loss: 1.0332 - val_acc: 0.8070\n",
            "Epoch 20/20\n",
            "7982/7982 [==============================] - 1s 149us/step - loss: 0.1153 - acc: 0.9575 - val_loss: 1.0541 - val_acc: 0.8030\n"
          ],
          "name": "stdout"
        }
      ]
    },
    {
      "metadata": {
        "id": "h2mvPL3lcupT",
        "colab_type": "text"
      },
      "cell_type": "markdown",
      "source": [
        "### 3.3.3 Plotting the training and validation loss"
      ]
    },
    {
      "metadata": {
        "id": "b20TnfqZcrKm",
        "colab_type": "code",
        "outputId": "b7227ae3-5763-4f63-90dc-2b83dae0d770",
        "colab": {
          "base_uri": "https://localhost:8080/",
          "height": 376
        }
      },
      "cell_type": "code",
      "source": [
        "import matplotlib.pyplot as plt\n",
        "loss = history.history['loss']\n",
        "val_loss = history.history['val_loss']\n",
        "epochs = range(1, len(loss) + 1)\n",
        "plt.plot(epochs, loss, 'bo', label='Training loss')\n",
        "plt.plot(epochs, val_loss, 'b', label='Validation loss')\n",
        "plt.title('Training and validation loss')\n",
        "plt.xlabel('Epochs')\n",
        "plt.ylabel('Loss')\n",
        "plt.legend()\n",
        "plt.show()"
      ],
      "execution_count": 0,
      "outputs": [
        {
          "output_type": "display_data",
          "data": {
            "image/png": "[encoded data removed]",
            "text/plain": [
              "<matplotlib.figure.Figure at 0x7f834e38ca90>"
            ]
          },
          "metadata": {
            "tags": []
          }
        }
      ]
    },
    {
      "metadata": {
        "id": "QGvyYuBzdE1E",
        "colab_type": "text"
      },
      "cell_type": "markdown",
      "source": [
        "### 3.3.4 Plotting the training and validation accuracy"
      ]
    },
    {
      "metadata": {
        "id": "Bo7I7CAic3TO",
        "colab_type": "code",
        "outputId": "cf69fbb3-1716-44a9-86da-21a3b958b9fd",
        "colab": {
          "base_uri": "https://localhost:8080/",
          "height": 376
        }
      },
      "cell_type": "code",
      "source": [
        "\n",
        "acc = history.history['acc']\n",
        "val_acc = history.history['val_acc']\n",
        "\n",
        "plt.plot(epochs, acc, 'bo', label='Training acc')\n",
        "plt.plot(epochs, val_acc, 'b', label='Validation acc')\n",
        "plt.title('Training and validation accuracy')\n",
        "\n",
        "plt.xlabel('Epochs')\n",
        "plt.ylabel('Loss')\n",
        "plt.legend()\n",
        "plt.show()"
      ],
      "execution_count": 0,
      "outputs": [
        {
          "output_type": "display_data",
          "data": {
            "image/png": "[encoded data removed]",
            "text/plain": [
              "<matplotlib.figure.Figure at 0x7f834e38c690>"
            ]
          },
          "metadata": {
            "tags": []
          }
        }
      ]
    },
    {
      "metadata": {
        "id": "qX1Jp-D0eIQq",
        "colab_type": "text"
      },
      "cell_type": "markdown",
      "source": [
        "**Observations**\n",
        "* The network begins to overfit after nine epochs. \n",
        "* Let’s train a new network from\n",
        "scratch for nine epochs and then evaluate it on the test set."
      ]
    },
    {
      "metadata": {
        "id": "4T39sVcJeTNB",
        "colab_type": "text"
      },
      "cell_type": "markdown",
      "source": [
        "### 3.3.5 Retraining a model from scratch"
      ]
    },
    {
      "metadata": {
        "id": "8InS09a_dQCd",
        "colab_type": "code",
        "outputId": "b1664413-3a50-4888-889b-144c170342af",
        "colab": {
          "base_uri": "https://localhost:8080/",
          "height": 377
        }
      },
      "cell_type": "code",
      "source": [
        "model = models.Sequential()\n",
        "\n",
        "model.add(layers.Dense(64, activation='relu', input_shape=(10000,)))\n",
        "model.add(layers.Dense(64, activation='relu'))\n",
        "model.add(layers.Dense(46, activation='softmax'))\n",
        "\n",
        "model.compile(optimizer='rmsprop',loss='categorical_crossentropy',metrics=['accuracy'])\n",
        "\n",
        "model.fit(partial_x_train,partial_y_train,epochs=9,batch_size=512,validation_data=(x_val, y_val))#Model with 9 epochs\n",
        "\n",
        "results = model.evaluate(x_test, one_hot_test_labels)"
      ],
      "execution_count": 0,
      "outputs": [
        {
          "output_type": "stream",
          "text": [
            "Train on 7982 samples, validate on 1000 samples\n",
            "Epoch 1/9\n",
            "7982/7982 [==============================] - 1s 161us/step - loss: 2.4662 - acc: 0.5314 - val_loss: 1.6363 - val_acc: 0.6510\n",
            "Epoch 2/9\n",
            "7982/7982 [==============================] - 1s 121us/step - loss: 1.3477 - acc: 0.7211 - val_loss: 1.2601 - val_acc: 0.7210\n",
            "Epoch 3/9\n",
            "7982/7982 [==============================] - 1s 151us/step - loss: 1.0078 - acc: 0.7913 - val_loss: 1.1424 - val_acc: 0.7390\n",
            "Epoch 4/9\n",
            "7982/7982 [==============================] - 1s 152us/step - loss: 0.8025 - acc: 0.8290 - val_loss: 1.0140 - val_acc: 0.7890\n",
            "Epoch 5/9\n",
            "7982/7982 [==============================] - 1s 155us/step - loss: 0.6359 - acc: 0.8658 - val_loss: 0.9880 - val_acc: 0.8050\n",
            "Epoch 6/9\n",
            "7982/7982 [==============================] - 1s 155us/step - loss: 0.5115 - acc: 0.8919 - val_loss: 0.9317 - val_acc: 0.8050\n",
            "Epoch 7/9\n",
            "7982/7982 [==============================] - 1s 152us/step - loss: 0.4116 - acc: 0.9113 - val_loss: 0.9232 - val_acc: 0.8020\n",
            "Epoch 8/9\n",
            "7982/7982 [==============================] - 1s 154us/step - loss: 0.3370 - acc: 0.9258 - val_loss: 0.8980 - val_acc: 0.8110\n",
            "Epoch 9/9\n",
            "6656/7982 [========================>.....] - ETA: 0s - loss: 0.2834 - acc: 0.9404"
          ],
          "name": "stdout"
        },
        {
          "output_type": "stream",
          "text": [
            "7982/7982 [==============================] - 1s 156us/step - loss: 0.2794 - acc: 0.9394 - val_loss: 0.9180 - val_acc: 0.8180\n",
            "2246/2246 [==============================] - 0s 114us/step\n"
          ],
          "name": "stdout"
        }
      ]
    },
    {
      "metadata": {
        "id": "5afNa_0Qejbj",
        "colab_type": "code",
        "outputId": "ce5e4146-68a7-41d2-939a-e9d14487dd17",
        "colab": {
          "base_uri": "https://localhost:8080/",
          "height": 34
        }
      },
      "cell_type": "code",
      "source": [
        "results"
      ],
      "execution_count": 0,
      "outputs": [
        {
          "output_type": "execute_result",
          "data": {
            "text/plain": [
              "[0.9799815752839575, 0.7836153161440804]"
            ]
          },
          "metadata": {
            "tags": []
          },
          "execution_count": 33
        }
      ]
    },
    {
      "metadata": {
        "id": "F3lUzYJKfZB3",
        "colab_type": "text"
      },
      "cell_type": "markdown",
      "source": [
        "### 3.3.6 Comparison with random baseline"
      ]
    },
    {
      "metadata": {
        "id": "hwqO8UhmeoB6",
        "colab_type": "code",
        "colab": {}
      },
      "cell_type": "code",
      "source": [
        "import copy"
      ],
      "execution_count": 0,
      "outputs": []
    },
    {
      "metadata": {
        "id": "YHWAy8RvfgMI",
        "colab_type": "code",
        "colab": {}
      },
      "cell_type": "code",
      "source": [
        "test_labels_copy = copy.copy(test_labels)"
      ],
      "execution_count": 0,
      "outputs": []
    },
    {
      "metadata": {
        "id": "V-nzPKXGfi53",
        "colab_type": "code",
        "outputId": "2b1cc6c2-d467-47be-ca64-c75199702c27",
        "colab": {
          "base_uri": "https://localhost:8080/",
          "height": 34
        }
      },
      "cell_type": "code",
      "source": [
        "test_labels_copy"
      ],
      "execution_count": 0,
      "outputs": [
        {
          "output_type": "execute_result",
          "data": {
            "text/plain": [
              "array([ 3, 10,  1, ...,  3,  3, 24])"
            ]
          },
          "metadata": {
            "tags": []
          },
          "execution_count": 42
        }
      ]
    },
    {
      "metadata": {
        "id": "Twy7tPhQfkpv",
        "colab_type": "code",
        "colab": {}
      },
      "cell_type": "code",
      "source": [
        "np.random.shuffle(test_labels_copy)"
      ],
      "execution_count": 0,
      "outputs": []
    },
    {
      "metadata": {
        "id": "-gxP099wfoe4",
        "colab_type": "code",
        "colab": {}
      },
      "cell_type": "code",
      "source": [
        "hits_array = np.array(test_labels) == np.array(test_labels_copy)"
      ],
      "execution_count": 0,
      "outputs": []
    },
    {
      "metadata": {
        "id": "R9g-zBLXfsKa",
        "colab_type": "code",
        "outputId": "0b63f7c0-1e04-4148-918d-9e3ec1db7d63",
        "colab": {
          "base_uri": "https://localhost:8080/",
          "height": 34
        }
      },
      "cell_type": "code",
      "source": [
        "hits_array"
      ],
      "execution_count": 0,
      "outputs": [
        {
          "output_type": "execute_result",
          "data": {
            "text/plain": [
              "array([False, False, False, ..., False, False, False])"
            ]
          },
          "metadata": {
            "tags": []
          },
          "execution_count": 45
        }
      ]
    },
    {
      "metadata": {
        "id": "P20qHHWZftt4",
        "colab_type": "code",
        "outputId": "c34b09ba-c8e0-422f-8c7b-2ec0e7cc4feb",
        "colab": {
          "base_uri": "https://localhost:8080/",
          "height": 34
        }
      },
      "cell_type": "code",
      "source": [
        "float(np.sum(hits_array)) / len(test_labels)"
      ],
      "execution_count": 0,
      "outputs": [
        {
          "output_type": "execute_result",
          "data": {
            "text/plain": [
              "0.19056099732858414"
            ]
          },
          "metadata": {
            "tags": []
          },
          "execution_count": 46
        }
      ]
    },
    {
      "metadata": {
        "id": "rhE3gwnXgJQ2",
        "colab_type": "text"
      },
      "cell_type": "markdown",
      "source": [
        "Thus a random classifier gets a result closer to 19%.\n",
        "\n",
        "This means our naive model does a pretty good job compared to a random baseline"
      ]
    },
    {
      "metadata": {
        "id": "LR_txyPwgQLf",
        "colab_type": "text"
      },
      "cell_type": "markdown",
      "source": [
        "## 3.4 Generating predictions on new data"
      ]
    },
    {
      "metadata": {
        "id": "BhAYlIvdgVlF",
        "colab_type": "text"
      },
      "cell_type": "markdown",
      "source": [
        "### 3.4.1 Generating predictions for new data"
      ]
    },
    {
      "metadata": {
        "id": "vlGtTwQIfxYY",
        "colab_type": "code",
        "colab": {}
      },
      "cell_type": "code",
      "source": [
        "predictions = model.predict(x_test)"
      ],
      "execution_count": 0,
      "outputs": []
    },
    {
      "metadata": {
        "id": "IpJ2CUKGgZI3",
        "colab_type": "code",
        "outputId": "92542d9f-1455-401f-ecde-7ca81d69250a",
        "colab": {
          "base_uri": "https://localhost:8080/",
          "height": 238
        }
      },
      "cell_type": "code",
      "source": [
        "predictions"
      ],
      "execution_count": 0,
      "outputs": [
        {
          "output_type": "execute_result",
          "data": {
            "text/plain": [
              "array([[3.0065852e-04, 4.1537313e-04, 1.1777668e-05, ..., 3.7633497e-04,\n",
              "        4.3693185e-06, 8.3263276e-06],\n",
              "       [9.7704055e-03, 2.8166387e-02, 2.3261255e-03, ..., 2.9999301e-05,\n",
              "        2.0469583e-04, 2.3240090e-04],\n",
              "       [8.9360019e-03, 7.2709453e-01, 3.5117064e-03, ..., 1.2005242e-04,\n",
              "        2.1959001e-03, 1.2024097e-03],\n",
              "       ...,\n",
              "       [2.2505754e-05, 2.0794429e-04, 2.6390850e-05, ..., 8.5873282e-05,\n",
              "        2.4255105e-06, 3.8740518e-06],\n",
              "       [5.2037216e-03, 2.5934726e-02, 2.2171566e-03, ..., 3.8686451e-03,\n",
              "        8.1460312e-04, 7.7010161e-04],\n",
              "       [1.0389665e-04, 8.6087537e-01, 4.4489494e-03, ..., 2.0292635e-05,\n",
              "        9.4074472e-05, 1.2326859e-04]], dtype=float32)"
            ]
          },
          "metadata": {
            "tags": []
          },
          "execution_count": 48
        }
      ]
    },
    {
      "metadata": {
        "id": "lpu9JfpigaWH",
        "colab_type": "code",
        "outputId": "40d80b02-fa4b-4387-f9c2-ca1ad3b718c4",
        "colab": {
          "base_uri": "https://localhost:8080/",
          "height": 34
        }
      },
      "cell_type": "code",
      "source": [
        "predictions[0].shape"
      ],
      "execution_count": 0,
      "outputs": [
        {
          "output_type": "execute_result",
          "data": {
            "text/plain": [
              "(46,)"
            ]
          },
          "metadata": {
            "tags": []
          },
          "execution_count": 49
        }
      ]
    },
    {
      "metadata": {
        "id": "u8M-JQPBgfdn",
        "colab_type": "code",
        "outputId": "1cb2d06e-c69d-4719-b932-7295d3ccc9c7",
        "colab": {
          "base_uri": "https://localhost:8080/",
          "height": 34
        }
      },
      "cell_type": "code",
      "source": [
        "np.sum(predictions[0])#vector sum"
      ],
      "execution_count": 0,
      "outputs": [
        {
          "output_type": "execute_result",
          "data": {
            "text/plain": [
              "1.0"
            ]
          },
          "metadata": {
            "tags": []
          },
          "execution_count": 50
        }
      ]
    },
    {
      "metadata": {
        "id": "Lm8EV95BgmdX",
        "colab_type": "code",
        "outputId": "9fc3225b-2f3c-47a3-a52d-74e888655b28",
        "colab": {
          "base_uri": "https://localhost:8080/",
          "height": 34
        }
      },
      "cell_type": "code",
      "source": [
        "np.argmax(predictions[0])#class with the highest probability"
      ],
      "execution_count": 0,
      "outputs": [
        {
          "output_type": "execute_result",
          "data": {
            "text/plain": [
              "3"
            ]
          },
          "metadata": {
            "tags": []
          },
          "execution_count": 51
        }
      ]
    },
    {
      "metadata": {
        "id": "6g5Q9ok3hley",
        "colab_type": "text"
      },
      "cell_type": "markdown",
      "source": [
        "# 4 Building the model with -\n",
        "1) Try to use only 4 units(instead of 64) in the second hidden layer of the above architecture.\n",
        "\n",
        "2) Try to use 2 hidden layers each with 32 units.\n",
        "\n",
        "3) Try to use 2 hidden layers each with 128 units.\n",
        "\n",
        "4) Try to use only 1 hidden layer (with 64 units).\n",
        "\n",
        "5) Try to use 3 hidden layers (each with 64 units.\n"
      ]
    },
    {
      "metadata": {
        "id": "hHC0kDnFh72T",
        "colab_type": "text"
      },
      "cell_type": "markdown",
      "source": [
        "## **4.1 1) Try to use only 4 units(instead of 64) in the second hidden layer of the above architecture.**"
      ]
    },
    {
      "metadata": {
        "id": "NmDzqlf_gu2e",
        "colab_type": "code",
        "outputId": "22b2c27e-b3b2-4bef-a691-9a34b9d53a93",
        "colab": {
          "base_uri": "https://localhost:8080/",
          "height": 751
        }
      },
      "cell_type": "code",
      "source": [
        "model = models.Sequential()\n",
        "model.add(layers.Dense(64, activation='relu', input_shape=(10000,)))\n",
        "model.add(layers.Dense(4, activation='relu'))\n",
        "model.add(layers.Dense(46, activation='softmax'))\n",
        "\n",
        "model.compile(optimizer='rmsprop',loss='categorical_crossentropy',metrics=['accuracy'])\n",
        "\n",
        "model.fit(partial_x_train,partial_y_train,epochs=20,batch_size=128,validation_data=(x_val, y_val))"
      ],
      "execution_count": 0,
      "outputs": [
        {
          "output_type": "stream",
          "text": [
            "Train on 7982 samples, validate on 1000 samples\n",
            "Epoch 1/20\n",
            "7982/7982 [==============================] - 2s 267us/step - loss: 2.6508 - acc: 0.4728 - val_loss: 1.8770 - val_acc: 0.5990\n",
            "Epoch 2/20\n",
            "7982/7982 [==============================] - 2s 219us/step - loss: 1.6147 - acc: 0.6378 - val_loss: 1.5800 - val_acc: 0.6390\n",
            "Epoch 3/20\n",
            "7982/7982 [==============================] - 2s 217us/step - loss: 1.3261 - acc: 0.6805 - val_loss: 1.4220 - val_acc: 0.6640\n",
            "Epoch 4/20\n",
            "7982/7982 [==============================] - 2s 228us/step - loss: 1.1391 - acc: 0.7309 - val_loss: 1.3527 - val_acc: 0.6990\n",
            "Epoch 5/20\n",
            "7982/7982 [==============================] - 2s 218us/step - loss: 1.0091 - acc: 0.7516 - val_loss: 1.3343 - val_acc: 0.6960\n",
            "Epoch 6/20\n",
            "7982/7982 [==============================] - 2s 224us/step - loss: 0.9180 - acc: 0.7650 - val_loss: 1.3140 - val_acc: 0.7160\n",
            "Epoch 7/20\n",
            "1408/7982 [====>.........................] - ETA: 1s - loss: 0.8716 - acc: 0.7706"
          ],
          "name": "stdout"
        },
        {
          "output_type": "stream",
          "text": [
            "7982/7982 [==============================] - 2s 222us/step - loss: 0.8486 - acc: 0.7829 - val_loss: 1.3383 - val_acc: 0.7150\n",
            "Epoch 8/20\n",
            "7982/7982 [==============================] - 2s 224us/step - loss: 0.7882 - acc: 0.7967 - val_loss: 1.3730 - val_acc: 0.7110\n",
            "Epoch 9/20\n",
            "7982/7982 [==============================] - 2s 225us/step - loss: 0.7393 - acc: 0.8053 - val_loss: 1.3703 - val_acc: 0.7130\n",
            "Epoch 10/20\n",
            "7982/7982 [==============================] - 2s 221us/step - loss: 0.6931 - acc: 0.8166 - val_loss: 1.4448 - val_acc: 0.7020\n",
            "Epoch 11/20\n",
            "7982/7982 [==============================] - 2s 221us/step - loss: 0.6548 - acc: 0.8249 - val_loss: 1.4841 - val_acc: 0.7010\n",
            "Epoch 12/20\n",
            "7982/7982 [==============================] - 2s 220us/step - loss: 0.6186 - acc: 0.8324 - val_loss: 1.4647 - val_acc: 0.7140\n",
            "Epoch 13/20\n",
            "4608/7982 [================>.............] - ETA: 0s - loss: 0.5772 - acc: 0.8385"
          ],
          "name": "stdout"
        },
        {
          "output_type": "stream",
          "text": [
            "7982/7982 [==============================] - 2s 222us/step - loss: 0.5864 - acc: 0.8379 - val_loss: 1.4997 - val_acc: 0.7150\n",
            "Epoch 14/20\n",
            "7982/7982 [==============================] - 2s 223us/step - loss: 0.5589 - acc: 0.8450 - val_loss: 1.5725 - val_acc: 0.7060\n",
            "Epoch 15/20\n",
            "7982/7982 [==============================] - 2s 221us/step - loss: 0.5348 - acc: 0.8530 - val_loss: 1.5510 - val_acc: 0.7170\n",
            "Epoch 16/20\n",
            "7982/7982 [==============================] - 2s 223us/step - loss: 0.5112 - acc: 0.8583 - val_loss: 1.5843 - val_acc: 0.7160\n",
            "Epoch 17/20\n",
            "7982/7982 [==============================] - 2s 215us/step - loss: 0.4915 - acc: 0.8633 - val_loss: 1.6853 - val_acc: 0.7170\n",
            "Epoch 18/20\n",
            "7982/7982 [==============================] - 2s 213us/step - loss: 0.4725 - acc: 0.8654 - val_loss: 1.6911 - val_acc: 0.7120\n",
            "Epoch 19/20\n",
            "6144/7982 [======================>.......] - ETA: 0s - loss: 0.4530 - acc: 0.8703"
          ],
          "name": "stdout"
        },
        {
          "output_type": "stream",
          "text": [
            "7982/7982 [==============================] - 2s 211us/step - loss: 0.4544 - acc: 0.8687 - val_loss: 1.7753 - val_acc: 0.7090\n",
            "Epoch 20/20\n",
            "7982/7982 [==============================] - 2s 212us/step - loss: 0.4422 - acc: 0.8736 - val_loss: 1.7870 - val_acc: 0.7030\n"
          ],
          "name": "stdout"
        },
        {
          "output_type": "execute_result",
          "data": {
            "text/plain": [
              "<keras.callbacks.History at 0x7f834aae8cd0>"
            ]
          },
          "metadata": {
            "tags": []
          },
          "execution_count": 52
        }
      ]
    },
    {
      "metadata": {
        "id": "YSUGyqowjmtn",
        "colab_type": "text"
      },
      "cell_type": "markdown",
      "source": [
        "**Observation :**\n",
        "* The network now peaks at ~70% validation accuracy, an 8% absolute drop.\n",
        "* This drop\n",
        "is mostly due to the fact that you’re trying to compress a lot of information (enough\n",
        "information to recover the separation hyperplanes of 46 classes) into an intermediate\n",
        "space that is too low-dimensional. T\n",
        "* he network is able to cram most of the necessary\n",
        "information into these eight-dimensional representations, but not all of it."
      ]
    },
    {
      "metadata": {
        "id": "HqfbCpNOkIjv",
        "colab_type": "text"
      },
      "cell_type": "markdown",
      "source": [
        "## 4.2. 2) Try to use 2 hidden layers each with 32 units."
      ]
    },
    {
      "metadata": {
        "id": "sfpZQQShiXUd",
        "colab_type": "code",
        "outputId": "f12c83d1-6b3a-4892-e0e4-7a95f03fea8d",
        "colab": {
          "base_uri": "https://localhost:8080/",
          "height": 751
        }
      },
      "cell_type": "code",
      "source": [
        "model = models.Sequential()\n",
        "model.add(layers.Dense(32, activation='relu', input_shape=(10000,)))# 1hidden layer\n",
        "model.add(layers.Dense(32, activation='relu'))# 2 hidden layer\n",
        "model.add(layers.Dense(46, activation='softmax'))\n",
        "\n",
        "model.compile(optimizer='rmsprop',loss='categorical_crossentropy',metrics=['accuracy'])\n",
        "\n",
        "model.fit(partial_x_train,partial_y_train,epochs=20,batch_size=128,validation_data=(x_val, y_val))"
      ],
      "execution_count": 0,
      "outputs": [
        {
          "output_type": "stream",
          "text": [
            "Train on 7982 samples, validate on 1000 samples\n",
            "Epoch 1/20\n",
            "7982/7982 [==============================] - 2s 226us/step - loss: 2.1649 - acc: 0.5791 - val_loss: 1.4553 - val_acc: 0.6830\n",
            "Epoch 2/20\n",
            "7982/7982 [==============================] - 1s 175us/step - loss: 1.2261 - acc: 0.7258 - val_loss: 1.1673 - val_acc: 0.7400\n",
            "Epoch 3/20\n",
            "7982/7982 [==============================] - 1s 172us/step - loss: 0.9199 - acc: 0.7988 - val_loss: 1.0217 - val_acc: 0.7840\n",
            "Epoch 4/20\n",
            "7982/7982 [==============================] - 1s 169us/step - loss: 0.7062 - acc: 0.8504 - val_loss: 0.9482 - val_acc: 0.8060\n",
            "Epoch 5/20\n",
            "7982/7982 [==============================] - 1s 172us/step - loss: 0.5496 - acc: 0.8811 - val_loss: 0.9185 - val_acc: 0.8130\n",
            "Epoch 6/20\n",
            "7982/7982 [==============================] - 1s 168us/step - loss: 0.4332 - acc: 0.9068 - val_loss: 0.8983 - val_acc: 0.8110\n",
            "Epoch 7/20\n",
            "7982/7982 [==============================] - 1s 168us/step - loss: 0.3490 - acc: 0.9225 - val_loss: 0.9132 - val_acc: 0.8080\n",
            "Epoch 8/20\n",
            "3968/7982 [=============>................] - ETA: 0s - loss: 0.2733 - acc: 0.9398"
          ],
          "name": "stdout"
        },
        {
          "output_type": "stream",
          "text": [
            "7982/7982 [==============================] - 1s 173us/step - loss: 0.2868 - acc: 0.9367 - val_loss: 0.9309 - val_acc: 0.8130\n",
            "Epoch 9/20\n",
            "7982/7982 [==============================] - 1s 172us/step - loss: 0.2409 - acc: 0.9439 - val_loss: 0.9775 - val_acc: 0.7950\n",
            "Epoch 10/20\n",
            "7982/7982 [==============================] - 1s 167us/step - loss: 0.2119 - acc: 0.9496 - val_loss: 0.9805 - val_acc: 0.8020\n",
            "Epoch 11/20\n",
            "7982/7982 [==============================] - 1s 167us/step - loss: 0.1854 - acc: 0.9538 - val_loss: 0.9777 - val_acc: 0.8080\n",
            "Epoch 12/20\n",
            "7982/7982 [==============================] - 1s 166us/step - loss: 0.1736 - acc: 0.9533 - val_loss: 1.0466 - val_acc: 0.7990\n",
            "Epoch 13/20\n",
            "7982/7982 [==============================] - 1s 164us/step - loss: 0.1579 - acc: 0.9540 - val_loss: 1.0686 - val_acc: 0.8000\n",
            "Epoch 14/20\n",
            "7982/7982 [==============================] - 1s 165us/step - loss: 0.1471 - acc: 0.9557 - val_loss: 1.1017 - val_acc: 0.8000\n",
            "Epoch 15/20\n",
            "7982/7982 [==============================] - 1s 166us/step - loss: 0.1416 - acc: 0.9572 - val_loss: 1.1526 - val_acc: 0.7940\n",
            "Epoch 16/20\n",
            " 128/7982 [..............................] - ETA: 1s - loss: 0.0477 - acc: 0.9922"
          ],
          "name": "stdout"
        },
        {
          "output_type": "stream",
          "text": [
            "7982/7982 [==============================] - 1s 168us/step - loss: 0.1345 - acc: 0.9564 - val_loss: 1.0858 - val_acc: 0.8010\n",
            "Epoch 17/20\n",
            "7982/7982 [==============================] - 1s 166us/step - loss: 0.1275 - acc: 0.9589 - val_loss: 1.1325 - val_acc: 0.7960\n",
            "Epoch 18/20\n",
            "7982/7982 [==============================] - 1s 168us/step - loss: 0.1269 - acc: 0.9573 - val_loss: 1.1295 - val_acc: 0.8050\n",
            "Epoch 19/20\n",
            "7982/7982 [==============================] - 1s 169us/step - loss: 0.1213 - acc: 0.9572 - val_loss: 1.1867 - val_acc: 0.7980\n",
            "Epoch 20/20\n",
            "7982/7982 [==============================] - 1s 167us/step - loss: 0.1142 - acc: 0.9579 - val_loss: 1.2523 - val_acc: 0.7910\n"
          ],
          "name": "stdout"
        },
        {
          "output_type": "execute_result",
          "data": {
            "text/plain": [
              "<keras.callbacks.History at 0x7f834a772dd0>"
            ]
          },
          "metadata": {
            "tags": []
          },
          "execution_count": 56
        }
      ]
    },
    {
      "metadata": {
        "id": "35Ix32AclKpY",
        "colab_type": "text"
      },
      "cell_type": "markdown",
      "source": [
        "**Observation :**\n",
        "* The network now peaks at ~79.1% validation accuracy, an 0.9% absolute drop.\n",
        "Better then the previous model."
      ]
    },
    {
      "metadata": {
        "id": "1Y_wYzZlloqZ",
        "colab_type": "text"
      },
      "cell_type": "markdown",
      "source": [
        "## 4.3. 3) Try to use 2 hidden layers each with 128 units."
      ]
    },
    {
      "metadata": {
        "id": "xaR_Ek2WkrMp",
        "colab_type": "code",
        "outputId": "40d9bcc6-7810-4cb0-85af-2db98918a9fb",
        "colab": {
          "base_uri": "https://localhost:8080/",
          "height": 751
        }
      },
      "cell_type": "code",
      "source": [
        "model = models.Sequential()\n",
        "model.add(layers.Dense(128, activation='relu', input_shape=(10000,)))# 1hidden layer\n",
        "model.add(layers.Dense(128, activation='relu'))# 2 hidden layer\n",
        "model.add(layers.Dense(46, activation='softmax'))\n",
        "\n",
        "model.compile(optimizer='rmsprop',loss='categorical_crossentropy',metrics=['accuracy'])\n",
        "\n",
        "model.fit(partial_x_train,partial_y_train,epochs=20,batch_size=128,validation_data=(x_val, y_val))"
      ],
      "execution_count": 0,
      "outputs": [
        {
          "output_type": "stream",
          "text": [
            "Train on 7982 samples, validate on 1000 samples\n",
            "Epoch 1/20\n",
            "7982/7982 [==============================] - 3s 373us/step - loss: 1.5474 - acc: 0.6761 - val_loss: 1.0562 - val_acc: 0.7670\n",
            "Epoch 2/20\n",
            "7982/7982 [==============================] - 2s 304us/step - loss: 0.7418 - acc: 0.8388 - val_loss: 0.8884 - val_acc: 0.8110\n",
            "Epoch 3/20\n",
            "7982/7982 [==============================] - 2s 302us/step - loss: 0.4427 - acc: 0.9047 - val_loss: 0.8261 - val_acc: 0.8310\n",
            "Epoch 4/20\n",
            "7982/7982 [==============================] - 2s 303us/step - loss: 0.2962 - acc: 0.9356 - val_loss: 0.8385 - val_acc: 0.8310\n",
            "Epoch 5/20\n",
            "7982/7982 [==============================] - 2s 299us/step - loss: 0.2233 - acc: 0.9466 - val_loss: 0.8652 - val_acc: 0.8270\n",
            "Epoch 6/20\n",
            "7982/7982 [==============================] - 2s 300us/step - loss: 0.1933 - acc: 0.9508 - val_loss: 0.9026 - val_acc: 0.8230\n",
            "Epoch 7/20\n",
            " 896/7982 [==>...........................] - ETA: 2s - loss: 0.1615 - acc: 0.9520"
          ],
          "name": "stdout"
        },
        {
          "output_type": "stream",
          "text": [
            "7982/7982 [==============================] - 2s 301us/step - loss: 0.1679 - acc: 0.9524 - val_loss: 1.1579 - val_acc: 0.7830\n",
            "Epoch 8/20\n",
            "7982/7982 [==============================] - 2s 302us/step - loss: 0.1523 - acc: 0.9545 - val_loss: 1.0411 - val_acc: 0.8080\n",
            "Epoch 9/20\n",
            "7982/7982 [==============================] - 2s 301us/step - loss: 0.1406 - acc: 0.9541 - val_loss: 1.0595 - val_acc: 0.8020\n",
            "Epoch 10/20\n",
            "7982/7982 [==============================] - 2s 306us/step - loss: 0.1379 - acc: 0.9548 - val_loss: 1.0770 - val_acc: 0.7950\n",
            "Epoch 11/20\n",
            "7982/7982 [==============================] - 2s 303us/step - loss: 0.1237 - acc: 0.9555 - val_loss: 1.0809 - val_acc: 0.7980\n",
            "Epoch 12/20\n",
            "7982/7982 [==============================] - 2s 303us/step - loss: 0.1217 - acc: 0.9541 - val_loss: 1.1440 - val_acc: 0.8010\n",
            "Epoch 13/20\n",
            "4224/7982 [==============>...............] - ETA: 1s - loss: 0.0891 - acc: 0.9645"
          ],
          "name": "stdout"
        },
        {
          "output_type": "stream",
          "text": [
            "7982/7982 [==============================] - 2s 303us/step - loss: 0.1138 - acc: 0.9557 - val_loss: 1.1400 - val_acc: 0.8010\n",
            "Epoch 14/20\n",
            "7982/7982 [==============================] - 2s 300us/step - loss: 0.1088 - acc: 0.9565 - val_loss: 1.1893 - val_acc: 0.8040\n",
            "Epoch 15/20\n",
            "7982/7982 [==============================] - 2s 299us/step - loss: 0.1043 - acc: 0.9553 - val_loss: 1.1448 - val_acc: 0.8060\n",
            "Epoch 16/20\n",
            "7982/7982 [==============================] - 2s 302us/step - loss: 0.1005 - acc: 0.9563 - val_loss: 1.2644 - val_acc: 0.7930\n",
            "Epoch 17/20\n",
            "7982/7982 [==============================] - 2s 300us/step - loss: 0.0960 - acc: 0.9553 - val_loss: 1.3550 - val_acc: 0.7810\n",
            "Epoch 18/20\n",
            "7982/7982 [==============================] - 2s 302us/step - loss: 0.0930 - acc: 0.9585 - val_loss: 1.3131 - val_acc: 0.7980\n",
            "Epoch 19/20\n",
            "4480/7982 [===============>..............] - ETA: 1s - loss: 0.0779 - acc: 0.9621"
          ],
          "name": "stdout"
        },
        {
          "output_type": "stream",
          "text": [
            "7982/7982 [==============================] - 2s 302us/step - loss: 0.0902 - acc: 0.9572 - val_loss: 1.3248 - val_acc: 0.8030\n",
            "Epoch 20/20\n",
            "7982/7982 [==============================] - 2s 304us/step - loss: 0.0854 - acc: 0.9592 - val_loss: 1.4230 - val_acc: 0.8010\n"
          ],
          "name": "stdout"
        },
        {
          "output_type": "execute_result",
          "data": {
            "text/plain": [
              "<keras.callbacks.History at 0x7f834a5a5d10>"
            ]
          },
          "metadata": {
            "tags": []
          },
          "execution_count": 57
        }
      ]
    },
    {
      "metadata": {
        "id": "mwL34_r5mEdm",
        "colab_type": "text"
      },
      "cell_type": "markdown",
      "source": [
        "**Observation : **\n",
        "*  The network now peaks at ~80.1% validation accuracy. Better then the previous model."
      ]
    },
    {
      "metadata": {
        "id": "alWN6GKfmvc1",
        "colab_type": "text"
      },
      "cell_type": "markdown",
      "source": [
        "## 4.4 4)  Try to use only 1 hidden layer (with 64 units)."
      ]
    },
    {
      "metadata": {
        "id": "BGyijou2mDiF",
        "colab_type": "code",
        "outputId": "cb085398-914d-4791-af71-4287ad76b2cc",
        "colab": {
          "base_uri": "https://localhost:8080/",
          "height": 751
        }
      },
      "cell_type": "code",
      "source": [
        "model = models.Sequential()\n",
        "model.add(layers.Dense(64, activation='relu', input_shape=(10000,)))#1 hidden layer\n",
        "model.add(layers.Dense(46, activation='softmax'))\n",
        "\n",
        "model.compile(optimizer='rmsprop',loss='categorical_crossentropy',metrics=['accuracy'])\n",
        "\n",
        "model.fit(partial_x_train,partial_y_train,epochs=20,batch_size=128,validation_data=(x_val, y_val))"
      ],
      "execution_count": 0,
      "outputs": [
        {
          "output_type": "stream",
          "text": [
            "Train on 7982 samples, validate on 1000 samples\n",
            "Epoch 1/20\n",
            "7982/7982 [==============================] - 2s 303us/step - loss: 1.8764 - acc: 0.6457 - val_loss: 1.2151 - val_acc: 0.7520\n",
            "Epoch 2/20\n",
            "7982/7982 [==============================] - 2s 218us/step - loss: 0.9422 - acc: 0.8026 - val_loss: 0.9717 - val_acc: 0.8050\n",
            "Epoch 3/20\n",
            "7982/7982 [==============================] - 2s 215us/step - loss: 0.6399 - acc: 0.8730 - val_loss: 0.8698 - val_acc: 0.8270\n",
            "Epoch 4/20\n",
            "7982/7982 [==============================] - 2s 213us/step - loss: 0.4582 - acc: 0.9088 - val_loss: 0.8233 - val_acc: 0.8310\n",
            "Epoch 5/20\n",
            "7982/7982 [==============================] - 2s 213us/step - loss: 0.3395 - acc: 0.9283 - val_loss: 0.8120 - val_acc: 0.8280\n",
            "Epoch 6/20\n",
            "7982/7982 [==============================] - 2s 212us/step - loss: 0.2648 - acc: 0.9419 - val_loss: 0.8219 - val_acc: 0.8340\n",
            "Epoch 7/20\n",
            "2944/7982 [==========>...................] - ETA: 1s - loss: 0.2029 - acc: 0.9524"
          ],
          "name": "stdout"
        },
        {
          "output_type": "stream",
          "text": [
            "7982/7982 [==============================] - 2s 212us/step - loss: 0.2190 - acc: 0.9476 - val_loss: 0.8372 - val_acc: 0.8270\n",
            "Epoch 8/20\n",
            "7982/7982 [==============================] - 2s 211us/step - loss: 0.1855 - acc: 0.9508 - val_loss: 0.8864 - val_acc: 0.8210\n",
            "Epoch 9/20\n",
            "7982/7982 [==============================] - 2s 213us/step - loss: 0.1633 - acc: 0.9535 - val_loss: 0.9012 - val_acc: 0.8130\n",
            "Epoch 10/20\n",
            "7982/7982 [==============================] - 2s 209us/step - loss: 0.1479 - acc: 0.9553 - val_loss: 0.9252 - val_acc: 0.8130\n",
            "Epoch 11/20\n",
            "7982/7982 [==============================] - 2s 207us/step - loss: 0.1359 - acc: 0.9557 - val_loss: 0.9776 - val_acc: 0.8190\n",
            "Epoch 12/20\n",
            "7982/7982 [==============================] - 2s 210us/step - loss: 0.1295 - acc: 0.9574 - val_loss: 1.0138 - val_acc: 0.8140\n",
            "Epoch 13/20\n",
            "6912/7982 [========================>.....] - ETA: 0s - loss: 0.1186 - acc: 0.9580"
          ],
          "name": "stdout"
        },
        {
          "output_type": "stream",
          "text": [
            "7982/7982 [==============================] - 2s 216us/step - loss: 0.1239 - acc: 0.9572 - val_loss: 1.0143 - val_acc: 0.8110\n",
            "Epoch 14/20\n",
            "7982/7982 [==============================] - 2s 216us/step - loss: 0.1212 - acc: 0.9564 - val_loss: 1.0204 - val_acc: 0.8110\n",
            "Epoch 15/20\n",
            "7982/7982 [==============================] - 2s 214us/step - loss: 0.1166 - acc: 0.9580 - val_loss: 1.0806 - val_acc: 0.8070\n",
            "Epoch 16/20\n",
            "7982/7982 [==============================] - 2s 213us/step - loss: 0.1116 - acc: 0.9553 - val_loss: 1.0906 - val_acc: 0.8030\n",
            "Epoch 17/20\n",
            "7982/7982 [==============================] - 2s 211us/step - loss: 0.1099 - acc: 0.9572 - val_loss: 1.1015 - val_acc: 0.8110\n",
            "Epoch 18/20\n",
            "7982/7982 [==============================] - 2s 214us/step - loss: 0.1054 - acc: 0.9582 - val_loss: 1.1375 - val_acc: 0.8020\n",
            "Epoch 19/20\n",
            "6528/7982 [=======================>......] - ETA: 0s - loss: 0.1058 - acc: 0.9573"
          ],
          "name": "stdout"
        },
        {
          "output_type": "stream",
          "text": [
            "7982/7982 [==============================] - 2s 217us/step - loss: 0.1083 - acc: 0.9563 - val_loss: 1.1596 - val_acc: 0.8050\n",
            "Epoch 20/20\n",
            "7982/7982 [==============================] - 2s 216us/step - loss: 0.1047 - acc: 0.9583 - val_loss: 1.1148 - val_acc: 0.8050\n"
          ],
          "name": "stdout"
        },
        {
          "output_type": "execute_result",
          "data": {
            "text/plain": [
              "<keras.callbacks.History at 0x7f834a591a90>"
            ]
          },
          "metadata": {
            "tags": []
          },
          "execution_count": 58
        }
      ]
    },
    {
      "metadata": {
        "id": "ohpKvSaYnE6Q",
        "colab_type": "text"
      },
      "cell_type": "markdown",
      "source": [
        "**Observation :**\n",
        "* The network now peaks at ~80.5% validation accuracy. Better then the previous model."
      ]
    },
    {
      "metadata": {
        "id": "XZ97lM4oncMf",
        "colab_type": "text"
      },
      "cell_type": "markdown",
      "source": [
        "## 4.5 5) Try to use 3 hidden layers (each with 64 units."
      ]
    },
    {
      "metadata": {
        "id": "dj_xA2gXnEFa",
        "colab_type": "code",
        "outputId": "6f97c774-03d3-4597-bf2e-3d318c634ad9",
        "colab": {
          "base_uri": "https://localhost:8080/",
          "height": 751
        }
      },
      "cell_type": "code",
      "source": [
        "model = models.Sequential()\n",
        "model.add(layers.Dense(64, activation='relu', input_shape=(10000,)))# 1hidden layer\n",
        "model.add(layers.Dense(64, activation='relu'))# 2 hidden layer\n",
        "model.add(layers.Dense(64, activation='relu'))# 3 hidden layer\n",
        "model.add(layers.Dense(46, activation='softmax'))\n",
        "\n",
        "model.compile(optimizer='rmsprop',loss='categorical_crossentropy',metrics=['accuracy'])\n",
        "\n",
        "model.fit(partial_x_train,partial_y_train,epochs=20,batch_size=128,validation_data=(x_val, y_val))"
      ],
      "execution_count": 0,
      "outputs": [
        {
          "output_type": "stream",
          "text": [
            "Train on 7982 samples, validate on 1000 samples\n",
            "Epoch 1/20\n",
            "7982/7982 [==============================] - 2s 284us/step - loss: 1.8646 - acc: 0.6116 - val_loss: 1.2962 - val_acc: 0.7080\n",
            "Epoch 2/20\n",
            "7982/7982 [==============================] - 2s 217us/step - loss: 1.0352 - acc: 0.7632 - val_loss: 1.1645 - val_acc: 0.7280\n",
            "Epoch 3/20\n",
            "7982/7982 [==============================] - 2s 227us/step - loss: 0.7015 - acc: 0.8468 - val_loss: 0.9927 - val_acc: 0.8060\n",
            "Epoch 4/20\n",
            "7982/7982 [==============================] - 2s 228us/step - loss: 0.4871 - acc: 0.8986 - val_loss: 0.9939 - val_acc: 0.8050\n",
            "Epoch 5/20\n",
            "7982/7982 [==============================] - 2s 228us/step - loss: 0.3548 - acc: 0.9252 - val_loss: 0.9214 - val_acc: 0.8260\n",
            "Epoch 6/20\n",
            "7982/7982 [==============================] - 2s 228us/step - loss: 0.2741 - acc: 0.9417 - val_loss: 1.0876 - val_acc: 0.7820\n",
            "Epoch 7/20\n",
            "1152/7982 [===>..........................] - ETA: 1s - loss: 0.1974 - acc: 0.9592"
          ],
          "name": "stdout"
        },
        {
          "output_type": "stream",
          "text": [
            "7982/7982 [==============================] - 2s 222us/step - loss: 0.2311 - acc: 0.9481 - val_loss: 1.0922 - val_acc: 0.7910\n",
            "Epoch 8/20\n",
            "7982/7982 [==============================] - 2s 220us/step - loss: 0.1995 - acc: 0.9503 - val_loss: 1.1518 - val_acc: 0.7870\n",
            "Epoch 9/20\n",
            "7982/7982 [==============================] - 2s 220us/step - loss: 0.1793 - acc: 0.9546 - val_loss: 1.0897 - val_acc: 0.8020\n",
            "Epoch 10/20\n",
            "7982/7982 [==============================] - 2s 222us/step - loss: 0.1756 - acc: 0.9565 - val_loss: 1.1732 - val_acc: 0.7960\n",
            "Epoch 11/20\n",
            "7982/7982 [==============================] - 2s 219us/step - loss: 0.1671 - acc: 0.9540 - val_loss: 1.1325 - val_acc: 0.7960\n",
            "Epoch 12/20\n",
            "7982/7982 [==============================] - 2s 217us/step - loss: 0.1601 - acc: 0.9575 - val_loss: 1.3589 - val_acc: 0.7780\n",
            "Epoch 13/20\n",
            "5632/7982 [====================>.........] - ETA: 0s - loss: 0.1259 - acc: 0.9599"
          ],
          "name": "stdout"
        },
        {
          "output_type": "stream",
          "text": [
            "7982/7982 [==============================] - 2s 221us/step - loss: 0.1488 - acc: 0.9559 - val_loss: 1.1942 - val_acc: 0.7910\n",
            "Epoch 14/20\n",
            "7982/7982 [==============================] - 2s 223us/step - loss: 0.1455 - acc: 0.9587 - val_loss: 1.2145 - val_acc: 0.8010\n",
            "Epoch 15/20\n",
            "7982/7982 [==============================] - 2s 223us/step - loss: 0.1432 - acc: 0.9575 - val_loss: 1.2281 - val_acc: 0.7980\n",
            "Epoch 16/20\n",
            "7982/7982 [==============================] - 2s 220us/step - loss: 0.1394 - acc: 0.9563 - val_loss: 1.3685 - val_acc: 0.7940\n",
            "Epoch 17/20\n",
            "7982/7982 [==============================] - 2s 221us/step - loss: 0.1369 - acc: 0.9569 - val_loss: 1.3283 - val_acc: 0.7850\n",
            "Epoch 18/20\n",
            "7982/7982 [==============================] - 2s 222us/step - loss: 0.1321 - acc: 0.9570 - val_loss: 1.4211 - val_acc: 0.7650\n",
            "Epoch 19/20\n",
            "4992/7982 [=================>............] - ETA: 0s - loss: 0.1149 - acc: 0.9615"
          ],
          "name": "stdout"
        },
        {
          "output_type": "stream",
          "text": [
            "7982/7982 [==============================] - 2s 225us/step - loss: 0.1301 - acc: 0.9575 - val_loss: 1.2495 - val_acc: 0.7950\n",
            "Epoch 20/20\n",
            "7982/7982 [==============================] - 2s 221us/step - loss: 0.1270 - acc: 0.9569 - val_loss: 1.3501 - val_acc: 0.7890\n"
          ],
          "name": "stdout"
        },
        {
          "output_type": "execute_result",
          "data": {
            "text/plain": [
              "<keras.callbacks.History at 0x7f834a096490>"
            ]
          },
          "metadata": {
            "tags": []
          },
          "execution_count": 59
        }
      ]
    },
    {
      "metadata": {
        "id": "Dok4Itlpnu9i",
        "colab_type": "text"
      },
      "cell_type": "markdown",
      "source": [
        "**Observations :**\n",
        "* We can see that The network now peaks at ~78.9% validation accuracy. Not Better then the previous model."
      ]
    },
    {
      "metadata": {
        "id": "9QzHPPc3nuQK",
        "colab_type": "code",
        "colab": {}
      },
      "cell_type": "code",
      "source": [
        ""
      ],
      "execution_count": 0,
      "outputs": []
    }
  ]
}